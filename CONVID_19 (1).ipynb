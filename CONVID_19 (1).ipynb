{
  "nbformat": 4,
  "nbformat_minor": 0,
  "metadata": {
    "colab": {
      "name": "CONVID-19.ipynb",
      "provenance": [],
      "collapsed_sections": [],
      "toc_visible": true
    },
    "kernelspec": {
      "name": "python3",
      "display_name": "Python 3"
    }
  },
  "cells": [
    {
      "cell_type": "code",
      "metadata": {
        "id": "QSx8lvM48dEg",
        "colab_type": "code",
        "colab": {}
      },
      "source": [
        "import numpy as np\n",
        "import pandas as pd"
      ],
      "execution_count": 0,
      "outputs": []
    },
    {
      "cell_type": "code",
      "metadata": {
        "id": "CgBYKiLN9XNs",
        "colab_type": "code",
        "colab": {}
      },
      "source": [
        "data = pd.read_excel(\"/content/drive/My Drive/Corona/Train_dataset (1).xlsx\",sheet_name='Train_dataset')\n",
        "test_data=pd.read_excel(\"/content/drive/My Drive/Corona/Test_dataset.xlsx\")"
      ],
      "execution_count": 0,
      "outputs": []
    },
    {
      "cell_type": "code",
      "metadata": {
        "id": "qc3TBN47A9gz",
        "colab_type": "code",
        "outputId": "93184ef8-6edc-4e70-bf2a-58d5eceb5349",
        "colab": {
          "base_uri": "https://localhost:8080/",
          "height": 292
        }
      },
      "source": [
        "data.head()"
      ],
      "execution_count": 3,
      "outputs": [
        {
          "output_type": "execute_result",
          "data": {
            "text/html": [
              "<div>\n",
              "<style scoped>\n",
              "    .dataframe tbody tr th:only-of-type {\n",
              "        vertical-align: middle;\n",
              "    }\n",
              "\n",
              "    .dataframe tbody tr th {\n",
              "        vertical-align: top;\n",
              "    }\n",
              "\n",
              "    .dataframe thead th {\n",
              "        text-align: right;\n",
              "    }\n",
              "</style>\n",
              "<table border=\"1\" class=\"dataframe\">\n",
              "  <thead>\n",
              "    <tr style=\"text-align: right;\">\n",
              "      <th></th>\n",
              "      <th>people_ID</th>\n",
              "      <th>Region</th>\n",
              "      <th>Gender</th>\n",
              "      <th>Designation</th>\n",
              "      <th>Name</th>\n",
              "      <th>Married</th>\n",
              "      <th>Children</th>\n",
              "      <th>Occupation</th>\n",
              "      <th>Mode_transport</th>\n",
              "      <th>cases/1M</th>\n",
              "      <th>Deaths/1M</th>\n",
              "      <th>comorbidity</th>\n",
              "      <th>Age</th>\n",
              "      <th>Coma score</th>\n",
              "      <th>Pulmonary score</th>\n",
              "      <th>cardiological pressure</th>\n",
              "      <th>Diuresis</th>\n",
              "      <th>Platelets</th>\n",
              "      <th>HBB</th>\n",
              "      <th>d-dimer</th>\n",
              "      <th>Heart rate</th>\n",
              "      <th>HDL cholesterol</th>\n",
              "      <th>Charlson Index</th>\n",
              "      <th>Blood Glucose</th>\n",
              "      <th>Insurance</th>\n",
              "      <th>salary</th>\n",
              "      <th>FT/month</th>\n",
              "      <th>Infect_Prob</th>\n",
              "    </tr>\n",
              "  </thead>\n",
              "  <tbody>\n",
              "    <tr>\n",
              "      <th>0</th>\n",
              "      <td>1</td>\n",
              "      <td>Bhubaneshwar</td>\n",
              "      <td>Female</td>\n",
              "      <td>Mrs</td>\n",
              "      <td>mansi</td>\n",
              "      <td>YES</td>\n",
              "      <td>1.0</td>\n",
              "      <td>Farmer</td>\n",
              "      <td>Public</td>\n",
              "      <td>2</td>\n",
              "      <td>0</td>\n",
              "      <td>Hypertension</td>\n",
              "      <td>68</td>\n",
              "      <td>8</td>\n",
              "      <td>&lt;400</td>\n",
              "      <td>Normal</td>\n",
              "      <td>441.0</td>\n",
              "      <td>154.0</td>\n",
              "      <td>93.0</td>\n",
              "      <td>233.0</td>\n",
              "      <td>82.0</td>\n",
              "      <td>58.0</td>\n",
              "      <td>27</td>\n",
              "      <td>7</td>\n",
              "      <td>3600000.0</td>\n",
              "      <td>1300000</td>\n",
              "      <td>2.0</td>\n",
              "      <td>49.135010</td>\n",
              "    </tr>\n",
              "    <tr>\n",
              "      <th>1</th>\n",
              "      <td>2</td>\n",
              "      <td>Bhubaneshwar</td>\n",
              "      <td>Female</td>\n",
              "      <td>Mrs</td>\n",
              "      <td>riya masi</td>\n",
              "      <td>YES</td>\n",
              "      <td>2.0</td>\n",
              "      <td>Farmer</td>\n",
              "      <td>Walk</td>\n",
              "      <td>2</td>\n",
              "      <td>0</td>\n",
              "      <td>Diabetes</td>\n",
              "      <td>64</td>\n",
              "      <td>15</td>\n",
              "      <td>&lt;100</td>\n",
              "      <td>Stage-02</td>\n",
              "      <td>NaN</td>\n",
              "      <td>121.0</td>\n",
              "      <td>56.0</td>\n",
              "      <td>328.0</td>\n",
              "      <td>89.0</td>\n",
              "      <td>68.0</td>\n",
              "      <td>5</td>\n",
              "      <td>6</td>\n",
              "      <td>1600000.0</td>\n",
              "      <td>400000</td>\n",
              "      <td>1.0</td>\n",
              "      <td>51.147880</td>\n",
              "    </tr>\n",
              "    <tr>\n",
              "      <th>2</th>\n",
              "      <td>3</td>\n",
              "      <td>Bhubaneshwar</td>\n",
              "      <td>Female</td>\n",
              "      <td>Mrs</td>\n",
              "      <td>sunita</td>\n",
              "      <td>NO</td>\n",
              "      <td>1.0</td>\n",
              "      <td>Cleaner</td>\n",
              "      <td>Public</td>\n",
              "      <td>2</td>\n",
              "      <td>0</td>\n",
              "      <td>None</td>\n",
              "      <td>19</td>\n",
              "      <td>13</td>\n",
              "      <td>&lt;300</td>\n",
              "      <td>Elevated</td>\n",
              "      <td>416.0</td>\n",
              "      <td>124.0</td>\n",
              "      <td>137.0</td>\n",
              "      <td>213.0</td>\n",
              "      <td>77.0</td>\n",
              "      <td>43.0</td>\n",
              "      <td>40</td>\n",
              "      <td>6</td>\n",
              "      <td>3400000.0</td>\n",
              "      <td>900000</td>\n",
              "      <td>1.0</td>\n",
              "      <td>73.224000</td>\n",
              "    </tr>\n",
              "    <tr>\n",
              "      <th>3</th>\n",
              "      <td>4</td>\n",
              "      <td>Bhubaneshwar</td>\n",
              "      <td>Female</td>\n",
              "      <td>Mrs</td>\n",
              "      <td>anjali @ babli</td>\n",
              "      <td>YES</td>\n",
              "      <td>1.0</td>\n",
              "      <td>Driver</td>\n",
              "      <td>Car</td>\n",
              "      <td>2</td>\n",
              "      <td>0</td>\n",
              "      <td>Coronary Heart Disease</td>\n",
              "      <td>33</td>\n",
              "      <td>9</td>\n",
              "      <td>&lt;200</td>\n",
              "      <td>Stage-01</td>\n",
              "      <td>410.0</td>\n",
              "      <td>98.0</td>\n",
              "      <td>167.0</td>\n",
              "      <td>275.0</td>\n",
              "      <td>64.0</td>\n",
              "      <td>60.0</td>\n",
              "      <td>27</td>\n",
              "      <td>7</td>\n",
              "      <td>700000.0</td>\n",
              "      <td>2300000</td>\n",
              "      <td>1.0</td>\n",
              "      <td>48.779225</td>\n",
              "    </tr>\n",
              "    <tr>\n",
              "      <th>4</th>\n",
              "      <td>5</td>\n",
              "      <td>Bhubaneshwar</td>\n",
              "      <td>Female</td>\n",
              "      <td>Mrs</td>\n",
              "      <td>champa karketta</td>\n",
              "      <td>NO</td>\n",
              "      <td>2.0</td>\n",
              "      <td>Manufacturing</td>\n",
              "      <td>Car</td>\n",
              "      <td>2</td>\n",
              "      <td>0</td>\n",
              "      <td>Diabetes</td>\n",
              "      <td>23</td>\n",
              "      <td>7</td>\n",
              "      <td>&lt;400</td>\n",
              "      <td>Normal</td>\n",
              "      <td>390.0</td>\n",
              "      <td>21.0</td>\n",
              "      <td>153.0</td>\n",
              "      <td>331.0</td>\n",
              "      <td>71.0</td>\n",
              "      <td>64.0</td>\n",
              "      <td>32</td>\n",
              "      <td>7</td>\n",
              "      <td>3200000.0</td>\n",
              "      <td>1100000</td>\n",
              "      <td>1.0</td>\n",
              "      <td>87.868800</td>\n",
              "    </tr>\n",
              "  </tbody>\n",
              "</table>\n",
              "</div>"
            ],
            "text/plain": [
              "   people_ID        Region  Gender  ...   salary FT/month Infect_Prob\n",
              "0          1  Bhubaneshwar  Female  ...  1300000      2.0   49.135010\n",
              "1          2  Bhubaneshwar  Female  ...   400000      1.0   51.147880\n",
              "2          3  Bhubaneshwar  Female  ...   900000      1.0   73.224000\n",
              "3          4  Bhubaneshwar  Female  ...  2300000      1.0   48.779225\n",
              "4          5  Bhubaneshwar  Female  ...  1100000      1.0   87.868800\n",
              "\n",
              "[5 rows x 28 columns]"
            ]
          },
          "metadata": {
            "tags": []
          },
          "execution_count": 3
        }
      ]
    },
    {
      "cell_type": "markdown",
      "metadata": {
        "id": "9oTkIsjTmxlq",
        "colab_type": "text"
      },
      "source": [
        "## Drop unnecessary columns"
      ]
    },
    {
      "cell_type": "code",
      "metadata": {
        "id": "zbLxC_6UH7Oc",
        "colab_type": "code",
        "colab": {}
      },
      "source": [
        "columns_to_drop = [\"Designation\",\"Name\",\"Insurance\",\"salary\",\"people_ID\"]"
      ],
      "execution_count": 0,
      "outputs": []
    },
    {
      "cell_type": "code",
      "metadata": {
        "id": "rH3chXFGIrFu",
        "colab_type": "code",
        "colab": {}
      },
      "source": [
        "data_clean = data.drop(columns_to_drop,axis=1)"
      ],
      "execution_count": 0,
      "outputs": []
    },
    {
      "cell_type": "code",
      "metadata": {
        "id": "TR94GcfMQATF",
        "colab_type": "code",
        "colab": {}
      },
      "source": [
        "#data_clean = data_clean.apply(lambda col: le.fit_transform(col.astype(str)))"
      ],
      "execution_count": 0,
      "outputs": []
    },
    {
      "cell_type": "code",
      "metadata": {
        "id": "1JW27jagIugd",
        "colab_type": "code",
        "outputId": "9b0ac12e-4217-4be0-9add-2fca760d6830",
        "colab": {
          "base_uri": "https://localhost:8080/",
          "height": 430
        }
      },
      "source": [
        "data_clean.head(n=10)"
      ],
      "execution_count": 7,
      "outputs": [
        {
          "output_type": "execute_result",
          "data": {
            "text/html": [
              "<div>\n",
              "<style scoped>\n",
              "    .dataframe tbody tr th:only-of-type {\n",
              "        vertical-align: middle;\n",
              "    }\n",
              "\n",
              "    .dataframe tbody tr th {\n",
              "        vertical-align: top;\n",
              "    }\n",
              "\n",
              "    .dataframe thead th {\n",
              "        text-align: right;\n",
              "    }\n",
              "</style>\n",
              "<table border=\"1\" class=\"dataframe\">\n",
              "  <thead>\n",
              "    <tr style=\"text-align: right;\">\n",
              "      <th></th>\n",
              "      <th>Region</th>\n",
              "      <th>Gender</th>\n",
              "      <th>Married</th>\n",
              "      <th>Children</th>\n",
              "      <th>Occupation</th>\n",
              "      <th>Mode_transport</th>\n",
              "      <th>cases/1M</th>\n",
              "      <th>Deaths/1M</th>\n",
              "      <th>comorbidity</th>\n",
              "      <th>Age</th>\n",
              "      <th>Coma score</th>\n",
              "      <th>Pulmonary score</th>\n",
              "      <th>cardiological pressure</th>\n",
              "      <th>Diuresis</th>\n",
              "      <th>Platelets</th>\n",
              "      <th>HBB</th>\n",
              "      <th>d-dimer</th>\n",
              "      <th>Heart rate</th>\n",
              "      <th>HDL cholesterol</th>\n",
              "      <th>Charlson Index</th>\n",
              "      <th>Blood Glucose</th>\n",
              "      <th>FT/month</th>\n",
              "      <th>Infect_Prob</th>\n",
              "    </tr>\n",
              "  </thead>\n",
              "  <tbody>\n",
              "    <tr>\n",
              "      <th>0</th>\n",
              "      <td>Bhubaneshwar</td>\n",
              "      <td>Female</td>\n",
              "      <td>YES</td>\n",
              "      <td>1.0</td>\n",
              "      <td>Farmer</td>\n",
              "      <td>Public</td>\n",
              "      <td>2</td>\n",
              "      <td>0</td>\n",
              "      <td>Hypertension</td>\n",
              "      <td>68</td>\n",
              "      <td>8</td>\n",
              "      <td>&lt;400</td>\n",
              "      <td>Normal</td>\n",
              "      <td>441.0</td>\n",
              "      <td>154.0</td>\n",
              "      <td>93.0</td>\n",
              "      <td>233.0</td>\n",
              "      <td>82.0</td>\n",
              "      <td>58.0</td>\n",
              "      <td>27</td>\n",
              "      <td>7</td>\n",
              "      <td>2.0</td>\n",
              "      <td>49.135010</td>\n",
              "    </tr>\n",
              "    <tr>\n",
              "      <th>1</th>\n",
              "      <td>Bhubaneshwar</td>\n",
              "      <td>Female</td>\n",
              "      <td>YES</td>\n",
              "      <td>2.0</td>\n",
              "      <td>Farmer</td>\n",
              "      <td>Walk</td>\n",
              "      <td>2</td>\n",
              "      <td>0</td>\n",
              "      <td>Diabetes</td>\n",
              "      <td>64</td>\n",
              "      <td>15</td>\n",
              "      <td>&lt;100</td>\n",
              "      <td>Stage-02</td>\n",
              "      <td>NaN</td>\n",
              "      <td>121.0</td>\n",
              "      <td>56.0</td>\n",
              "      <td>328.0</td>\n",
              "      <td>89.0</td>\n",
              "      <td>68.0</td>\n",
              "      <td>5</td>\n",
              "      <td>6</td>\n",
              "      <td>1.0</td>\n",
              "      <td>51.147880</td>\n",
              "    </tr>\n",
              "    <tr>\n",
              "      <th>2</th>\n",
              "      <td>Bhubaneshwar</td>\n",
              "      <td>Female</td>\n",
              "      <td>NO</td>\n",
              "      <td>1.0</td>\n",
              "      <td>Cleaner</td>\n",
              "      <td>Public</td>\n",
              "      <td>2</td>\n",
              "      <td>0</td>\n",
              "      <td>None</td>\n",
              "      <td>19</td>\n",
              "      <td>13</td>\n",
              "      <td>&lt;300</td>\n",
              "      <td>Elevated</td>\n",
              "      <td>416.0</td>\n",
              "      <td>124.0</td>\n",
              "      <td>137.0</td>\n",
              "      <td>213.0</td>\n",
              "      <td>77.0</td>\n",
              "      <td>43.0</td>\n",
              "      <td>40</td>\n",
              "      <td>6</td>\n",
              "      <td>1.0</td>\n",
              "      <td>73.224000</td>\n",
              "    </tr>\n",
              "    <tr>\n",
              "      <th>3</th>\n",
              "      <td>Bhubaneshwar</td>\n",
              "      <td>Female</td>\n",
              "      <td>YES</td>\n",
              "      <td>1.0</td>\n",
              "      <td>Driver</td>\n",
              "      <td>Car</td>\n",
              "      <td>2</td>\n",
              "      <td>0</td>\n",
              "      <td>Coronary Heart Disease</td>\n",
              "      <td>33</td>\n",
              "      <td>9</td>\n",
              "      <td>&lt;200</td>\n",
              "      <td>Stage-01</td>\n",
              "      <td>410.0</td>\n",
              "      <td>98.0</td>\n",
              "      <td>167.0</td>\n",
              "      <td>275.0</td>\n",
              "      <td>64.0</td>\n",
              "      <td>60.0</td>\n",
              "      <td>27</td>\n",
              "      <td>7</td>\n",
              "      <td>1.0</td>\n",
              "      <td>48.779225</td>\n",
              "    </tr>\n",
              "    <tr>\n",
              "      <th>4</th>\n",
              "      <td>Bhubaneshwar</td>\n",
              "      <td>Female</td>\n",
              "      <td>NO</td>\n",
              "      <td>2.0</td>\n",
              "      <td>Manufacturing</td>\n",
              "      <td>Car</td>\n",
              "      <td>2</td>\n",
              "      <td>0</td>\n",
              "      <td>Diabetes</td>\n",
              "      <td>23</td>\n",
              "      <td>7</td>\n",
              "      <td>&lt;400</td>\n",
              "      <td>Normal</td>\n",
              "      <td>390.0</td>\n",
              "      <td>21.0</td>\n",
              "      <td>153.0</td>\n",
              "      <td>331.0</td>\n",
              "      <td>71.0</td>\n",
              "      <td>64.0</td>\n",
              "      <td>32</td>\n",
              "      <td>7</td>\n",
              "      <td>1.0</td>\n",
              "      <td>87.868800</td>\n",
              "    </tr>\n",
              "    <tr>\n",
              "      <th>5</th>\n",
              "      <td>Bhubaneshwar</td>\n",
              "      <td>Female</td>\n",
              "      <td>YES</td>\n",
              "      <td>1.0</td>\n",
              "      <td>Clerk</td>\n",
              "      <td>Public</td>\n",
              "      <td>2</td>\n",
              "      <td>0</td>\n",
              "      <td>None</td>\n",
              "      <td>35</td>\n",
              "      <td>9</td>\n",
              "      <td>&lt;100</td>\n",
              "      <td>Stage-02</td>\n",
              "      <td>389.0</td>\n",
              "      <td>139.0</td>\n",
              "      <td>86.0</td>\n",
              "      <td>216.0</td>\n",
              "      <td>94.0</td>\n",
              "      <td>38.0</td>\n",
              "      <td>5</td>\n",
              "      <td>5</td>\n",
              "      <td>2.0</td>\n",
              "      <td>49.518345</td>\n",
              "    </tr>\n",
              "    <tr>\n",
              "      <th>6</th>\n",
              "      <td>Bhubaneshwar</td>\n",
              "      <td>Female</td>\n",
              "      <td>YES</td>\n",
              "      <td>2.0</td>\n",
              "      <td>Manufacturing</td>\n",
              "      <td>Car</td>\n",
              "      <td>2</td>\n",
              "      <td>0</td>\n",
              "      <td>Coronary Heart Disease</td>\n",
              "      <td>61</td>\n",
              "      <td>3</td>\n",
              "      <td>&lt;400</td>\n",
              "      <td>Normal</td>\n",
              "      <td>NaN</td>\n",
              "      <td>75.0</td>\n",
              "      <td>156.0</td>\n",
              "      <td>311.0</td>\n",
              "      <td>99.0</td>\n",
              "      <td>68.0</td>\n",
              "      <td>23</td>\n",
              "      <td>5</td>\n",
              "      <td>1.0</td>\n",
              "      <td>49.670361</td>\n",
              "    </tr>\n",
              "    <tr>\n",
              "      <th>7</th>\n",
              "      <td>Bhubaneshwar</td>\n",
              "      <td>Female</td>\n",
              "      <td>YES</td>\n",
              "      <td>1.0</td>\n",
              "      <td>Manufacturing</td>\n",
              "      <td>Public</td>\n",
              "      <td>2</td>\n",
              "      <td>0</td>\n",
              "      <td>Diabetes</td>\n",
              "      <td>49</td>\n",
              "      <td>10</td>\n",
              "      <td>&lt;200</td>\n",
              "      <td>Stage-01</td>\n",
              "      <td>194.0</td>\n",
              "      <td>123.0</td>\n",
              "      <td>179.0</td>\n",
              "      <td>242.0</td>\n",
              "      <td>82.0</td>\n",
              "      <td>59.0</td>\n",
              "      <td>34</td>\n",
              "      <td>3</td>\n",
              "      <td>0.0</td>\n",
              "      <td>49.121025</td>\n",
              "    </tr>\n",
              "    <tr>\n",
              "      <th>8</th>\n",
              "      <td>Bhubaneshwar</td>\n",
              "      <td>Female</td>\n",
              "      <td>YES</td>\n",
              "      <td>2.0</td>\n",
              "      <td>Sales</td>\n",
              "      <td>Public</td>\n",
              "      <td>2</td>\n",
              "      <td>0</td>\n",
              "      <td>Hypertension</td>\n",
              "      <td>44</td>\n",
              "      <td>6</td>\n",
              "      <td>&lt;200</td>\n",
              "      <td>Stage-01</td>\n",
              "      <td>310.0</td>\n",
              "      <td>NaN</td>\n",
              "      <td>156.0</td>\n",
              "      <td>NaN</td>\n",
              "      <td>NaN</td>\n",
              "      <td>37.0</td>\n",
              "      <td>21</td>\n",
              "      <td>7</td>\n",
              "      <td>0.0</td>\n",
              "      <td>48.531922</td>\n",
              "    </tr>\n",
              "    <tr>\n",
              "      <th>9</th>\n",
              "      <td>Bhubaneshwar</td>\n",
              "      <td>Female</td>\n",
              "      <td>YES</td>\n",
              "      <td>1.0</td>\n",
              "      <td>Farmer</td>\n",
              "      <td>Public</td>\n",
              "      <td>2</td>\n",
              "      <td>0</td>\n",
              "      <td>None</td>\n",
              "      <td>41</td>\n",
              "      <td>14</td>\n",
              "      <td>&lt;300</td>\n",
              "      <td>Elevated</td>\n",
              "      <td>242.0</td>\n",
              "      <td>23.0</td>\n",
              "      <td>178.0</td>\n",
              "      <td>277.0</td>\n",
              "      <td>83.0</td>\n",
              "      <td>58.0</td>\n",
              "      <td>28</td>\n",
              "      <td>4</td>\n",
              "      <td>2.0</td>\n",
              "      <td>48.475097</td>\n",
              "    </tr>\n",
              "  </tbody>\n",
              "</table>\n",
              "</div>"
            ],
            "text/plain": [
              "         Region  Gender Married  ...  Blood Glucose FT/month Infect_Prob\n",
              "0  Bhubaneshwar  Female     YES  ...              7      2.0   49.135010\n",
              "1  Bhubaneshwar  Female     YES  ...              6      1.0   51.147880\n",
              "2  Bhubaneshwar  Female      NO  ...              6      1.0   73.224000\n",
              "3  Bhubaneshwar  Female     YES  ...              7      1.0   48.779225\n",
              "4  Bhubaneshwar  Female      NO  ...              7      1.0   87.868800\n",
              "5  Bhubaneshwar  Female     YES  ...              5      2.0   49.518345\n",
              "6  Bhubaneshwar  Female     YES  ...              5      1.0   49.670361\n",
              "7  Bhubaneshwar  Female     YES  ...              3      0.0   49.121025\n",
              "8  Bhubaneshwar  Female     YES  ...              7      0.0   48.531922\n",
              "9  Bhubaneshwar  Female     YES  ...              4      2.0   48.475097\n",
              "\n",
              "[10 rows x 23 columns]"
            ]
          },
          "metadata": {
            "tags": []
          },
          "execution_count": 7
        }
      ]
    },
    {
      "cell_type": "markdown",
      "metadata": {
        "id": "ilXKn7oSm-qc",
        "colab_type": "text"
      },
      "source": [
        "## Finding the number of NA values in each column"
      ]
    },
    {
      "cell_type": "code",
      "metadata": {
        "id": "2tfwBCExKeU3",
        "colab_type": "code",
        "outputId": "26775a65-b648-4e4d-e909-568feb34be1e",
        "colab": {
          "base_uri": "https://localhost:8080/",
          "height": 425
        }
      },
      "source": [
        "data_clean.isna().sum()"
      ],
      "execution_count": 8,
      "outputs": [
        {
          "output_type": "execute_result",
          "data": {
            "text/plain": [
              "Region                       0\n",
              "Gender                       0\n",
              "Married                      0\n",
              "Children                   311\n",
              "Occupation                 747\n",
              "Mode_transport               3\n",
              "cases/1M                     0\n",
              "Deaths/1M                    0\n",
              "comorbidity                226\n",
              "Age                          0\n",
              "Coma score                   0\n",
              "Pulmonary score              0\n",
              "cardiological pressure      97\n",
              "Diuresis                   716\n",
              "Platelets                  924\n",
              "HBB                         16\n",
              "d-dimer                   1114\n",
              "Heart rate                1114\n",
              "HDL cholesterol             35\n",
              "Charlson Index               0\n",
              "Blood Glucose                0\n",
              "FT/month                   723\n",
              "Infect_Prob                  0\n",
              "dtype: int64"
            ]
          },
          "metadata": {
            "tags": []
          },
          "execution_count": 8
        }
      ]
    },
    {
      "cell_type": "markdown",
      "metadata": {
        "id": "GZLGbfm7nTRG",
        "colab_type": "text"
      },
      "source": [
        "## Filling NA values with 0 in children column and None in object columns"
      ]
    },
    {
      "cell_type": "code",
      "metadata": {
        "id": "QFnAuDmdV9Da",
        "colab_type": "code",
        "colab": {}
      },
      "source": [
        "data_clean[['Children']] = data_clean[['Children']].fillna(value=0)"
      ],
      "execution_count": 0,
      "outputs": []
    },
    {
      "cell_type": "code",
      "metadata": {
        "id": "i5kpWY5XW4UY",
        "colab_type": "code",
        "colab": {}
      },
      "source": [
        "data_clean['Occupation'].fillna(\"no info\", inplace=True)\n",
        "data_clean['comorbidity'].fillna(\"None\", inplace=True)\n",
        "data_clean['Mode_transport'].fillna(\"None\", inplace=True)\n",
        "data_clean['cardiological pressure'].fillna(\"None\", inplace=True)"
      ],
      "execution_count": 0,
      "outputs": []
    },
    {
      "cell_type": "markdown",
      "metadata": {
        "id": "9b2b8go4ndkL",
        "colab_type": "text"
      },
      "source": [
        "## Filling mean values in float columns"
      ]
    },
    {
      "cell_type": "code",
      "metadata": {
        "id": "BWiIIVw4XElG",
        "colab_type": "code",
        "colab": {}
      },
      "source": [
        "data_clean['Diuresis'].fillna(data_clean['Diuresis'].mean(), inplace=True)\n",
        "data_clean['Platelets'].fillna(data_clean['Platelets'].mean(), inplace=True)\n",
        "data_clean['d-dimer'].fillna(data_clean['d-dimer'].mean(), inplace=True)\n",
        "data_clean['Heart rate'].fillna(data_clean['Heart rate'].mean(), inplace=True)\n",
        "data_clean['FT/month'].fillna(data_clean['FT/month'].mean(), inplace=True)\n",
        "data_clean['HDL cholesterol'].fillna(data_clean['HDL cholesterol'].mean(), inplace=True)\n",
        "data_clean['HBB'].fillna(data_clean['HBB'].mean(), inplace=True)"
      ],
      "execution_count": 0,
      "outputs": []
    },
    {
      "cell_type": "markdown",
      "metadata": {
        "id": "iFjOsozrnpE7",
        "colab_type": "text"
      },
      "source": [
        "## Removing duplicate columns if any"
      ]
    },
    {
      "cell_type": "code",
      "metadata": {
        "id": "7L2EBZ5PYSgu",
        "colab_type": "code",
        "outputId": "d85f6a80-b053-40c5-9317-3ed9df58c3cf",
        "colab": {
          "base_uri": "https://localhost:8080/",
          "height": 34
        }
      },
      "source": [
        "duplicate_rows_df = data_clean[data_clean.duplicated()]\n",
        "print(duplicate_rows_df.shape)"
      ],
      "execution_count": 12,
      "outputs": [
        {
          "output_type": "stream",
          "text": [
            "(0, 23)\n"
          ],
          "name": "stdout"
        }
      ]
    },
    {
      "cell_type": "markdown",
      "metadata": {
        "id": "ReDeaGJinxR1",
        "colab_type": "text"
      },
      "source": [
        "## Label encoding the object columns"
      ]
    },
    {
      "cell_type": "code",
      "metadata": {
        "id": "cHdWDMA-gzD4",
        "colab_type": "code",
        "colab": {}
      },
      "source": [
        "from sklearn.preprocessing import LabelEncoder\n",
        "\n",
        "le = LabelEncoder()\n",
        "\n",
        "data_clean[\"Gender\"] = le.fit_transform(data_clean[\"Gender\"])\n",
        "data_clean[\"Region\"] = le.fit_transform(data_clean[\"Region\"])\n",
        "data_clean[\"Married\"] = le.fit_transform(data_clean[\"Married\"])\n",
        "data_clean[\"Occupation\"] = le.fit_transform(data_clean[\"Occupation\"])\n",
        "data_clean[\"Mode_transport\"] = le.fit_transform(data_clean[\"Mode_transport\"])\n",
        "data_clean[\"comorbidity\"] = le.fit_transform(data_clean[\"comorbidity\"])\n",
        "data_clean[\"Pulmonary score\"] = le.fit_transform(data_clean[\"Pulmonary score\"])\n",
        "data_clean[\"cardiological pressure\"] = le.fit_transform(data_clean[\"cardiological pressure\"])"
      ],
      "execution_count": 0,
      "outputs": []
    },
    {
      "cell_type": "code",
      "metadata": {
        "id": "JkFwL5KiiZ2u",
        "colab_type": "code",
        "outputId": "496ae8e2-deda-4ba1-9d4a-bcb4f7290483",
        "colab": {
          "base_uri": "https://localhost:8080/",
          "height": 425
        }
      },
      "source": [
        "data_clean.isna().sum()"
      ],
      "execution_count": 14,
      "outputs": [
        {
          "output_type": "execute_result",
          "data": {
            "text/plain": [
              "Region                    0\n",
              "Gender                    0\n",
              "Married                   0\n",
              "Children                  0\n",
              "Occupation                0\n",
              "Mode_transport            0\n",
              "cases/1M                  0\n",
              "Deaths/1M                 0\n",
              "comorbidity               0\n",
              "Age                       0\n",
              "Coma score                0\n",
              "Pulmonary score           0\n",
              "cardiological pressure    0\n",
              "Diuresis                  0\n",
              "Platelets                 0\n",
              "HBB                       0\n",
              "d-dimer                   0\n",
              "Heart rate                0\n",
              "HDL cholesterol           0\n",
              "Charlson Index            0\n",
              "Blood Glucose             0\n",
              "FT/month                  0\n",
              "Infect_Prob               0\n",
              "dtype: int64"
            ]
          },
          "metadata": {
            "tags": []
          },
          "execution_count": 14
        }
      ]
    },
    {
      "cell_type": "code",
      "metadata": {
        "id": "lELv5YaAlaMP",
        "colab_type": "code",
        "outputId": "b52237ee-0842-4402-937e-d5240f38211a",
        "colab": {
          "base_uri": "https://localhost:8080/",
          "height": 493
        }
      },
      "source": [
        "test_data.isna().sum()"
      ],
      "execution_count": 16,
      "outputs": [
        {
          "output_type": "execute_result",
          "data": {
            "text/plain": [
              "people_ID                  0\n",
              "Region                     0\n",
              "Gender                     0\n",
              "Designation                0\n",
              "Name                      32\n",
              "Married                    0\n",
              "Children                   0\n",
              "Occupation                 0\n",
              "Mode_transport             0\n",
              "cases/1M                   0\n",
              "Deaths/1M                  0\n",
              "comorbidity                0\n",
              "Age                        0\n",
              "Coma score                 0\n",
              "Pulmonary score            0\n",
              "cardiological pressure     0\n",
              "Diuresis                   0\n",
              "Platelets                  0\n",
              "HBB                        0\n",
              "d-dimer                    0\n",
              "Heart rate                 0\n",
              "HDL cholesterol            0\n",
              "Charlson Index             0\n",
              "Blood Glucose              0\n",
              "Insurance                  0\n",
              "salary                     0\n",
              "FT/month                   0\n",
              "dtype: int64"
            ]
          },
          "metadata": {
            "tags": []
          },
          "execution_count": 16
        }
      ]
    },
    {
      "cell_type": "code",
      "metadata": {
        "id": "HjgK6bid3-dr",
        "colab_type": "code",
        "colab": {
          "base_uri": "https://localhost:8080/",
          "height": 456
        },
        "outputId": "77176eb6-c2ef-42c1-ab83-63d73fb5e493"
      },
      "source": [
        "data_clean"
      ],
      "execution_count": 17,
      "outputs": [
        {
          "output_type": "execute_result",
          "data": {
            "text/html": [
              "<div>\n",
              "<style scoped>\n",
              "    .dataframe tbody tr th:only-of-type {\n",
              "        vertical-align: middle;\n",
              "    }\n",
              "\n",
              "    .dataframe tbody tr th {\n",
              "        vertical-align: top;\n",
              "    }\n",
              "\n",
              "    .dataframe thead th {\n",
              "        text-align: right;\n",
              "    }\n",
              "</style>\n",
              "<table border=\"1\" class=\"dataframe\">\n",
              "  <thead>\n",
              "    <tr style=\"text-align: right;\">\n",
              "      <th></th>\n",
              "      <th>Region</th>\n",
              "      <th>Gender</th>\n",
              "      <th>Married</th>\n",
              "      <th>Children</th>\n",
              "      <th>Occupation</th>\n",
              "      <th>Mode_transport</th>\n",
              "      <th>cases/1M</th>\n",
              "      <th>Deaths/1M</th>\n",
              "      <th>comorbidity</th>\n",
              "      <th>Age</th>\n",
              "      <th>Coma score</th>\n",
              "      <th>Pulmonary score</th>\n",
              "      <th>cardiological pressure</th>\n",
              "      <th>Diuresis</th>\n",
              "      <th>Platelets</th>\n",
              "      <th>HBB</th>\n",
              "      <th>d-dimer</th>\n",
              "      <th>Heart rate</th>\n",
              "      <th>HDL cholesterol</th>\n",
              "      <th>Charlson Index</th>\n",
              "      <th>Blood Glucose</th>\n",
              "      <th>FT/month</th>\n",
              "      <th>Infect_Prob</th>\n",
              "    </tr>\n",
              "  </thead>\n",
              "  <tbody>\n",
              "    <tr>\n",
              "      <th>0</th>\n",
              "      <td>1</td>\n",
              "      <td>0</td>\n",
              "      <td>1</td>\n",
              "      <td>1.0</td>\n",
              "      <td>4</td>\n",
              "      <td>2</td>\n",
              "      <td>2</td>\n",
              "      <td>0</td>\n",
              "      <td>2</td>\n",
              "      <td>68</td>\n",
              "      <td>8</td>\n",
              "      <td>3</td>\n",
              "      <td>2</td>\n",
              "      <td>441.000000</td>\n",
              "      <td>154.0</td>\n",
              "      <td>93.0</td>\n",
              "      <td>233.0</td>\n",
              "      <td>82.0</td>\n",
              "      <td>58.0</td>\n",
              "      <td>27</td>\n",
              "      <td>7</td>\n",
              "      <td>2.000000</td>\n",
              "      <td>49.135010</td>\n",
              "    </tr>\n",
              "    <tr>\n",
              "      <th>1</th>\n",
              "      <td>1</td>\n",
              "      <td>0</td>\n",
              "      <td>1</td>\n",
              "      <td>2.0</td>\n",
              "      <td>4</td>\n",
              "      <td>3</td>\n",
              "      <td>2</td>\n",
              "      <td>0</td>\n",
              "      <td>1</td>\n",
              "      <td>64</td>\n",
              "      <td>15</td>\n",
              "      <td>0</td>\n",
              "      <td>4</td>\n",
              "      <td>278.806261</td>\n",
              "      <td>121.0</td>\n",
              "      <td>56.0</td>\n",
              "      <td>328.0</td>\n",
              "      <td>89.0</td>\n",
              "      <td>68.0</td>\n",
              "      <td>5</td>\n",
              "      <td>6</td>\n",
              "      <td>1.000000</td>\n",
              "      <td>51.147880</td>\n",
              "    </tr>\n",
              "    <tr>\n",
              "      <th>2</th>\n",
              "      <td>1</td>\n",
              "      <td>0</td>\n",
              "      <td>0</td>\n",
              "      <td>1.0</td>\n",
              "      <td>1</td>\n",
              "      <td>2</td>\n",
              "      <td>2</td>\n",
              "      <td>0</td>\n",
              "      <td>3</td>\n",
              "      <td>19</td>\n",
              "      <td>13</td>\n",
              "      <td>2</td>\n",
              "      <td>0</td>\n",
              "      <td>416.000000</td>\n",
              "      <td>124.0</td>\n",
              "      <td>137.0</td>\n",
              "      <td>213.0</td>\n",
              "      <td>77.0</td>\n",
              "      <td>43.0</td>\n",
              "      <td>40</td>\n",
              "      <td>6</td>\n",
              "      <td>1.000000</td>\n",
              "      <td>73.224000</td>\n",
              "    </tr>\n",
              "    <tr>\n",
              "      <th>3</th>\n",
              "      <td>1</td>\n",
              "      <td>0</td>\n",
              "      <td>1</td>\n",
              "      <td>1.0</td>\n",
              "      <td>3</td>\n",
              "      <td>0</td>\n",
              "      <td>2</td>\n",
              "      <td>0</td>\n",
              "      <td>0</td>\n",
              "      <td>33</td>\n",
              "      <td>9</td>\n",
              "      <td>1</td>\n",
              "      <td>3</td>\n",
              "      <td>410.000000</td>\n",
              "      <td>98.0</td>\n",
              "      <td>167.0</td>\n",
              "      <td>275.0</td>\n",
              "      <td>64.0</td>\n",
              "      <td>60.0</td>\n",
              "      <td>27</td>\n",
              "      <td>7</td>\n",
              "      <td>1.000000</td>\n",
              "      <td>48.779225</td>\n",
              "    </tr>\n",
              "    <tr>\n",
              "      <th>4</th>\n",
              "      <td>1</td>\n",
              "      <td>0</td>\n",
              "      <td>0</td>\n",
              "      <td>2.0</td>\n",
              "      <td>6</td>\n",
              "      <td>0</td>\n",
              "      <td>2</td>\n",
              "      <td>0</td>\n",
              "      <td>1</td>\n",
              "      <td>23</td>\n",
              "      <td>7</td>\n",
              "      <td>3</td>\n",
              "      <td>2</td>\n",
              "      <td>390.000000</td>\n",
              "      <td>21.0</td>\n",
              "      <td>153.0</td>\n",
              "      <td>331.0</td>\n",
              "      <td>71.0</td>\n",
              "      <td>64.0</td>\n",
              "      <td>32</td>\n",
              "      <td>7</td>\n",
              "      <td>1.000000</td>\n",
              "      <td>87.868800</td>\n",
              "    </tr>\n",
              "    <tr>\n",
              "      <th>...</th>\n",
              "      <td>...</td>\n",
              "      <td>...</td>\n",
              "      <td>...</td>\n",
              "      <td>...</td>\n",
              "      <td>...</td>\n",
              "      <td>...</td>\n",
              "      <td>...</td>\n",
              "      <td>...</td>\n",
              "      <td>...</td>\n",
              "      <td>...</td>\n",
              "      <td>...</td>\n",
              "      <td>...</td>\n",
              "      <td>...</td>\n",
              "      <td>...</td>\n",
              "      <td>...</td>\n",
              "      <td>...</td>\n",
              "      <td>...</td>\n",
              "      <td>...</td>\n",
              "      <td>...</td>\n",
              "      <td>...</td>\n",
              "      <td>...</td>\n",
              "      <td>...</td>\n",
              "      <td>...</td>\n",
              "    </tr>\n",
              "    <tr>\n",
              "      <th>10709</th>\n",
              "      <td>0</td>\n",
              "      <td>1</td>\n",
              "      <td>0</td>\n",
              "      <td>2.0</td>\n",
              "      <td>0</td>\n",
              "      <td>0</td>\n",
              "      <td>8</td>\n",
              "      <td>2</td>\n",
              "      <td>1</td>\n",
              "      <td>20</td>\n",
              "      <td>14</td>\n",
              "      <td>3</td>\n",
              "      <td>2</td>\n",
              "      <td>134.000000</td>\n",
              "      <td>67.0</td>\n",
              "      <td>24.0</td>\n",
              "      <td>209.0</td>\n",
              "      <td>61.0</td>\n",
              "      <td>56.0</td>\n",
              "      <td>35</td>\n",
              "      <td>7</td>\n",
              "      <td>0.000000</td>\n",
              "      <td>41.981760</td>\n",
              "    </tr>\n",
              "    <tr>\n",
              "      <th>10710</th>\n",
              "      <td>0</td>\n",
              "      <td>1</td>\n",
              "      <td>1</td>\n",
              "      <td>0.0</td>\n",
              "      <td>6</td>\n",
              "      <td>0</td>\n",
              "      <td>8</td>\n",
              "      <td>2</td>\n",
              "      <td>3</td>\n",
              "      <td>42</td>\n",
              "      <td>4</td>\n",
              "      <td>3</td>\n",
              "      <td>2</td>\n",
              "      <td>387.000000</td>\n",
              "      <td>102.0</td>\n",
              "      <td>134.0</td>\n",
              "      <td>211.0</td>\n",
              "      <td>65.0</td>\n",
              "      <td>47.0</td>\n",
              "      <td>35</td>\n",
              "      <td>7</td>\n",
              "      <td>1.004604</td>\n",
              "      <td>47.148663</td>\n",
              "    </tr>\n",
              "    <tr>\n",
              "      <th>10711</th>\n",
              "      <td>0</td>\n",
              "      <td>1</td>\n",
              "      <td>1</td>\n",
              "      <td>0.0</td>\n",
              "      <td>2</td>\n",
              "      <td>2</td>\n",
              "      <td>8</td>\n",
              "      <td>2</td>\n",
              "      <td>1</td>\n",
              "      <td>59</td>\n",
              "      <td>3</td>\n",
              "      <td>0</td>\n",
              "      <td>4</td>\n",
              "      <td>177.000000</td>\n",
              "      <td>111.0</td>\n",
              "      <td>151.0</td>\n",
              "      <td>296.0</td>\n",
              "      <td>87.0</td>\n",
              "      <td>37.0</td>\n",
              "      <td>16</td>\n",
              "      <td>5</td>\n",
              "      <td>2.000000</td>\n",
              "      <td>47.708533</td>\n",
              "    </tr>\n",
              "    <tr>\n",
              "      <th>10712</th>\n",
              "      <td>0</td>\n",
              "      <td>1</td>\n",
              "      <td>1</td>\n",
              "      <td>1.0</td>\n",
              "      <td>5</td>\n",
              "      <td>3</td>\n",
              "      <td>8</td>\n",
              "      <td>2</td>\n",
              "      <td>0</td>\n",
              "      <td>49</td>\n",
              "      <td>6</td>\n",
              "      <td>2</td>\n",
              "      <td>0</td>\n",
              "      <td>352.000000</td>\n",
              "      <td>140.0</td>\n",
              "      <td>110.0</td>\n",
              "      <td>253.0</td>\n",
              "      <td>56.0</td>\n",
              "      <td>70.0</td>\n",
              "      <td>28</td>\n",
              "      <td>5</td>\n",
              "      <td>1.000000</td>\n",
              "      <td>53.803565</td>\n",
              "    </tr>\n",
              "    <tr>\n",
              "      <th>10713</th>\n",
              "      <td>0</td>\n",
              "      <td>1</td>\n",
              "      <td>0</td>\n",
              "      <td>2.0</td>\n",
              "      <td>0</td>\n",
              "      <td>0</td>\n",
              "      <td>8</td>\n",
              "      <td>2</td>\n",
              "      <td>1</td>\n",
              "      <td>17</td>\n",
              "      <td>7</td>\n",
              "      <td>3</td>\n",
              "      <td>2</td>\n",
              "      <td>181.000000</td>\n",
              "      <td>65.0</td>\n",
              "      <td>134.0</td>\n",
              "      <td>201.0</td>\n",
              "      <td>82.0</td>\n",
              "      <td>60.0</td>\n",
              "      <td>4</td>\n",
              "      <td>3</td>\n",
              "      <td>0.000000</td>\n",
              "      <td>68.342400</td>\n",
              "    </tr>\n",
              "  </tbody>\n",
              "</table>\n",
              "<p>10714 rows × 23 columns</p>\n",
              "</div>"
            ],
            "text/plain": [
              "       Region  Gender  Married  ...  Blood Glucose  FT/month  Infect_Prob\n",
              "0           1       0        1  ...              7  2.000000    49.135010\n",
              "1           1       0        1  ...              6  1.000000    51.147880\n",
              "2           1       0        0  ...              6  1.000000    73.224000\n",
              "3           1       0        1  ...              7  1.000000    48.779225\n",
              "4           1       0        0  ...              7  1.000000    87.868800\n",
              "...       ...     ...      ...  ...            ...       ...          ...\n",
              "10709       0       1        0  ...              7  0.000000    41.981760\n",
              "10710       0       1        1  ...              7  1.004604    47.148663\n",
              "10711       0       1        1  ...              5  2.000000    47.708533\n",
              "10712       0       1        1  ...              5  1.000000    53.803565\n",
              "10713       0       1        0  ...              3  0.000000    68.342400\n",
              "\n",
              "[10714 rows x 23 columns]"
            ]
          },
          "metadata": {
            "tags": []
          },
          "execution_count": 17
        }
      ]
    },
    {
      "cell_type": "code",
      "metadata": {
        "id": "qb1jfJpemMCA",
        "colab_type": "code",
        "outputId": "554b759d-05c1-40ce-86d2-c47632c994b1",
        "colab": {
          "base_uri": "https://localhost:8080/",
          "height": 527
        }
      },
      "source": [
        "# import the seaborn module\n",
        "import seaborn as sns\n",
        "# import the matplotlib module\n",
        "import matplotlib.pyplot as plt\n",
        "# set the background colour of the plot to white\n",
        "sns.set(style=\"whitegrid\", color_codes=True)\n",
        "# setting the plot size for all plots\n",
        "sns.set(rc={'figure.figsize':(11.7,8.27)})\n",
        "# create a countplot\n",
        "sns.countplot('Region',data=data_clean,hue = 'cases/1M')\n",
        "# Remove the top and down margin\n",
        "sns.despine(offset=10, trim=True)\n",
        "# display the plotplt.show()"
      ],
      "execution_count": 18,
      "outputs": [
        {
          "output_type": "display_data",
          "data": {
            "image/png": "[encoded data removed]",
            "text/plain": [
              "<Figure size 842.4x595.44 with 1 Axes>"
            ]
          },
          "metadata": {
            "tags": []
          }
        }
      ]
    },
    {
      "cell_type": "code",
      "metadata": {
        "id": "zlncd0Tit437",
        "colab_type": "code",
        "colab": {}
      },
      "source": [
        "YT= ['Infect_Prob']"
      ],
      "execution_count": 0,
      "outputs": []
    },
    {
      "cell_type": "code",
      "metadata": {
        "id": "NsTPBxaTzHEH",
        "colab_type": "code",
        "colab": {}
      },
      "source": [
        "XT=['Region','Gender','Married','Children','Occupation','Mode_transport','cases/1M','Deaths/1M','comorbidity','Age','Coma score','Pulmonary score','cardiological pressure','Diuresis','Platelets','HBB','d-dimer','Heart rate','HDL cholesterol','Charlson Index','Blood Glucose','FT/month']"
      ],
      "execution_count": 0,
      "outputs": []
    },
    {
      "cell_type": "code",
      "metadata": {
        "id": "uccr9ze82Quf",
        "colab_type": "code",
        "colab": {}
      },
      "source": [
        "X = data_clean[XT]\n",
        "Y = data_clean[YT]"
      ],
      "execution_count": 0,
      "outputs": []
    },
    {
      "cell_type": "code",
      "metadata": {
        "id": "VM_eZZ__3VPx",
        "colab_type": "code",
        "colab": {}
      },
      "source": [
        "#import the necessary module\n",
        "from sklearn.model_selection import train_test_split\n",
        "#split data set into train and test sets\n",
        "X_train, X_test, Y_train, Y_test = train_test_split(X,Y, test_size = 0.30, random_state = 10)"
      ],
      "execution_count": 0,
      "outputs": []
    },
    {
      "cell_type": "markdown",
      "metadata": {
        "id": "-kuKCt5ft4bh",
        "colab_type": "text"
      },
      "source": [
        "# DataPipeline"
      ]
    },
    {
      "cell_type": "code",
      "metadata": {
        "id": "Y_XNNPL7Akmd",
        "colab_type": "code",
        "colab": {
          "base_uri": "https://localhost:8080/",
          "height": 80
        },
        "outputId": "d39e7668-2e8e-4495-8994-06963d21eb48"
      },
      "source": [
        "import keras\n",
        "from keras.preprocessing import sequence\n",
        "from keras.models import Sequential\n",
        "from keras.layers import Dense, Embedding\n",
        "from keras.layers import LSTM\n",
        "from keras.preprocessing.text import Tokenizer\n",
        "from keras.preprocessing.sequence import pad_sequences\n",
        "from keras.utils import to_categorical\n",
        "from keras.layers import Input, Flatten, Dropout, Activation\n",
        "from keras.layers import Conv1D,Conv2D, MaxPooling1D, AveragePooling1D, GlobalAveragePooling1D, MaxPooling2D, GlobalMaxPooling1D\n",
        "from keras.models import Model\n",
        "from keras.callbacks import ModelCheckpoint\n",
        "from sklearn.metrics import confusion_matrix\n",
        "from keras.models import *\n",
        "from keras.layers import *\n",
        "from keras.callbacks import *\n",
        "from keras.callbacks import Callback, TensorBoard, EarlyStopping"
      ],
      "execution_count": 23,
      "outputs": [
        {
          "output_type": "stream",
          "text": [
            "Using TensorFlow backend.\n"
          ],
          "name": "stderr"
        },
        {
          "output_type": "display_data",
          "data": {
            "text/html": [
              "<p style=\"color: red;\">\n",
              "The default version of TensorFlow in Colab will soon switch to TensorFlow 2.x.<br>\n",
              "We recommend you <a href=\"https://www.tensorflow.org/guide/migrate\" target=\"_blank\">upgrade</a> now \n",
              "or ensure your notebook will continue to use TensorFlow 1.x via the <code>%tensorflow_version 1.x</code> magic:\n",
              "<a href=\"https://colab.research.google.com/notebooks/tensorflow_version.ipynb\" target=\"_blank\">more info</a>.</p>\n"
            ],
            "text/plain": [
              "<IPython.core.display.HTML object>"
            ]
          },
          "metadata": {
            "tags": []
          }
        }
      ]
    },
    {
      "cell_type": "code",
      "metadata": {
        "id": "c3bRujdOyV34",
        "colab_type": "code",
        "colab": {}
      },
      "source": [
        "# Build Our Neural Network Model\n",
        "from keras.models import Sequential\n",
        "from keras.layers import Dense\n",
        "import numpy as np\n",
        "from keras import backend as K\n",
        "\n",
        "def r2_score(y_true,y_pred):\n",
        "    num = K.sum(K.square(y_true-y_pred))\n",
        "    denom = K.sum(K.square(y_true- K.mean(y_true)))\n",
        "    return (1-num/denom)\n",
        "\n",
        "def getModel():\n",
        "    model = Sequential()\n",
        "    model.add(Dense(128,activation='relu',input_shape=(22,)))\n",
        "    model.add(Dense(64,activation='relu',input_shape=(22,)))\n",
        "    model.add(Dense(32,activation='relu'))\n",
        "    model.add(Dense(16,activation='relu'))\n",
        "    model.add(Dense(8,activation='relu'))\n",
        "    model.add(Dense(1))\n",
        "    \n",
        "    model.compile(optimizer='adam',loss='mse',metrics=[r2_score])\n",
        "    return model\n"
      ],
      "execution_count": 0,
      "outputs": []
    },
    {
      "cell_type": "code",
      "metadata": {
        "id": "18KWWD7JzDkw",
        "colab_type": "code",
        "outputId": "721d56b9-5631-44e4-d444-cbb825c57875",
        "colab": {
          "base_uri": "https://localhost:8080/",
          "height": 513
        }
      },
      "source": [
        "model = getModel()\n",
        "model.summary()"
      ],
      "execution_count": 25,
      "outputs": [
        {
          "output_type": "stream",
          "text": [
            "WARNING:tensorflow:From /usr/local/lib/python3.6/dist-packages/keras/backend/tensorflow_backend.py:66: The name tf.get_default_graph is deprecated. Please use tf.compat.v1.get_default_graph instead.\n",
            "\n",
            "WARNING:tensorflow:From /usr/local/lib/python3.6/dist-packages/keras/backend/tensorflow_backend.py:541: The name tf.placeholder is deprecated. Please use tf.compat.v1.placeholder instead.\n",
            "\n",
            "WARNING:tensorflow:From /usr/local/lib/python3.6/dist-packages/keras/backend/tensorflow_backend.py:4432: The name tf.random_uniform is deprecated. Please use tf.random.uniform instead.\n",
            "\n",
            "WARNING:tensorflow:From /usr/local/lib/python3.6/dist-packages/keras/optimizers.py:793: The name tf.train.Optimizer is deprecated. Please use tf.compat.v1.train.Optimizer instead.\n",
            "\n",
            "Model: \"sequential_1\"\n",
            "_________________________________________________________________\n",
            "Layer (type)                 Output Shape              Param #   \n",
            "=================================================================\n",
            "dense_1 (Dense)              (None, 128)               2944      \n",
            "_________________________________________________________________\n",
            "dense_2 (Dense)              (None, 64)                8256      \n",
            "_________________________________________________________________\n",
            "dense_3 (Dense)              (None, 32)                2080      \n",
            "_________________________________________________________________\n",
            "dense_4 (Dense)              (None, 16)                528       \n",
            "_________________________________________________________________\n",
            "dense_5 (Dense)              (None, 8)                 136       \n",
            "_________________________________________________________________\n",
            "dense_6 (Dense)              (None, 1)                 9         \n",
            "=================================================================\n",
            "Total params: 13,953\n",
            "Trainable params: 13,953\n",
            "Non-trainable params: 0\n",
            "_________________________________________________________________\n"
          ],
          "name": "stdout"
        }
      ]
    },
    {
      "cell_type": "code",
      "metadata": {
        "id": "cLVSHbYS3JBB",
        "colab_type": "code",
        "outputId": "c25fcfcc-689a-4663-fbfd-f346e4f20462",
        "colab": {
          "base_uri": "https://localhost:8080/",
          "height": 1000
        }
      },
      "source": [
        "hist = model.fit(X_train,Y_train,epochs=30,validation_data=(X_test,Y_test),verbose=1)"
      ],
      "execution_count": 37,
      "outputs": [
        {
          "output_type": "stream",
          "text": [
            "Train on 7499 samples, validate on 3215 samples\n",
            "Epoch 1/30\n",
            "7499/7499 [==============================] - 0s 53us/step - loss: 94.5658 - r2_score: 0.0170 - val_loss: 96.4757 - val_r2_score: 0.0506\n",
            "Epoch 2/30\n",
            "7499/7499 [==============================] - 0s 53us/step - loss: 95.2036 - r2_score: -0.0154 - val_loss: 99.6430 - val_r2_score: 0.0073\n",
            "Epoch 3/30\n",
            "7499/7499 [==============================] - 0s 53us/step - loss: 93.1020 - r2_score: 0.0657 - val_loss: 96.8866 - val_r2_score: -0.0519\n",
            "Epoch 4/30\n",
            "7499/7499 [==============================] - 0s 53us/step - loss: 94.4969 - r2_score: 0.0120 - val_loss: 107.4799 - val_r2_score: -0.1731\n",
            "Epoch 5/30\n",
            "7499/7499 [==============================] - 0s 57us/step - loss: 93.6532 - r2_score: 0.0341 - val_loss: 98.6497 - val_r2_score: 0.0467\n",
            "Epoch 6/30\n",
            "7499/7499 [==============================] - 0s 54us/step - loss: 92.2558 - r2_score: 0.0729 - val_loss: 100.6643 - val_r2_score: -0.0975\n",
            "Epoch 7/30\n",
            "7499/7499 [==============================] - 0s 54us/step - loss: 95.4026 - r2_score: 0.0053 - val_loss: 95.3766 - val_r2_score: 0.0879\n",
            "Epoch 8/30\n",
            "7499/7499 [==============================] - 0s 53us/step - loss: 93.2303 - r2_score: 0.0649 - val_loss: 96.4081 - val_r2_score: 0.0245\n",
            "Epoch 9/30\n",
            "7499/7499 [==============================] - 0s 53us/step - loss: 92.7634 - r2_score: 0.0637 - val_loss: 91.8929 - val_r2_score: 0.0884\n",
            "Epoch 10/30\n",
            "7499/7499 [==============================] - 0s 52us/step - loss: 92.5165 - r2_score: 0.0221 - val_loss: 96.5093 - val_r2_score: 0.0864\n",
            "Epoch 11/30\n",
            "7499/7499 [==============================] - 0s 54us/step - loss: 93.1625 - r2_score: 0.0157 - val_loss: 95.4404 - val_r2_score: 0.0268\n",
            "Epoch 12/30\n",
            "7499/7499 [==============================] - 0s 56us/step - loss: 91.7486 - r2_score: 0.0630 - val_loss: 91.1910 - val_r2_score: 0.0916\n",
            "Epoch 13/30\n",
            "7499/7499 [==============================] - 0s 55us/step - loss: 92.0764 - r2_score: 0.0832 - val_loss: 99.2423 - val_r2_score: 0.0358\n",
            "Epoch 14/30\n",
            "7499/7499 [==============================] - 0s 52us/step - loss: 91.5227 - r2_score: 0.0804 - val_loss: 92.2107 - val_r2_score: 0.0689\n",
            "Epoch 15/30\n",
            "7499/7499 [==============================] - 0s 54us/step - loss: 90.0567 - r2_score: 0.0608 - val_loss: 91.1092 - val_r2_score: 0.0657\n",
            "Epoch 16/30\n",
            "7499/7499 [==============================] - 0s 52us/step - loss: 90.2510 - r2_score: 0.0983 - val_loss: 95.0152 - val_r2_score: 0.0205\n",
            "Epoch 17/30\n",
            "7499/7499 [==============================] - 0s 53us/step - loss: 88.9619 - r2_score: 0.1018 - val_loss: 94.2984 - val_r2_score: -0.0037\n",
            "Epoch 18/30\n",
            "7499/7499 [==============================] - 0s 53us/step - loss: 90.2420 - r2_score: 0.1040 - val_loss: 92.1272 - val_r2_score: 0.0193\n",
            "Epoch 19/30\n",
            "7499/7499 [==============================] - 0s 55us/step - loss: 91.6785 - r2_score: 0.0851 - val_loss: 91.7937 - val_r2_score: 0.0934\n",
            "Epoch 20/30\n",
            "7499/7499 [==============================] - 0s 54us/step - loss: 88.4355 - r2_score: 0.0924 - val_loss: 90.6952 - val_r2_score: 0.0560\n",
            "Epoch 21/30\n",
            "7499/7499 [==============================] - 0s 52us/step - loss: 89.5674 - r2_score: 0.0634 - val_loss: 90.4976 - val_r2_score: 0.0891\n",
            "Epoch 22/30\n",
            "7499/7499 [==============================] - 0s 53us/step - loss: 87.3795 - r2_score: 0.1002 - val_loss: 94.5478 - val_r2_score: -0.0248\n",
            "Epoch 23/30\n",
            "7499/7499 [==============================] - 0s 53us/step - loss: 88.0446 - r2_score: 0.1139 - val_loss: 96.0105 - val_r2_score: 0.0684\n",
            "Epoch 24/30\n",
            "7499/7499 [==============================] - 0s 53us/step - loss: 87.3155 - r2_score: 0.0635 - val_loss: 98.5188 - val_r2_score: 0.0370\n",
            "Epoch 25/30\n",
            "7499/7499 [==============================] - 0s 53us/step - loss: 89.1626 - r2_score: 0.0996 - val_loss: 96.1487 - val_r2_score: 0.0490\n",
            "Epoch 26/30\n",
            "7499/7499 [==============================] - 0s 53us/step - loss: 87.2892 - r2_score: 0.1169 - val_loss: 90.8952 - val_r2_score: 0.0768\n",
            "Epoch 27/30\n",
            "7499/7499 [==============================] - 0s 53us/step - loss: 87.8936 - r2_score: 0.0812 - val_loss: 96.7505 - val_r2_score: -0.0628\n",
            "Epoch 28/30\n",
            "7499/7499 [==============================] - 0s 54us/step - loss: 87.0915 - r2_score: 0.1464 - val_loss: 91.1173 - val_r2_score: 0.0787\n",
            "Epoch 29/30\n",
            "7499/7499 [==============================] - 0s 53us/step - loss: 85.5418 - r2_score: 0.1321 - val_loss: 92.5729 - val_r2_score: 0.0636\n",
            "Epoch 30/30\n",
            "7499/7499 [==============================] - 0s 53us/step - loss: 86.0870 - r2_score: 0.1170 - val_loss: 96.8106 - val_r2_score: 0.0149\n"
          ],
          "name": "stdout"
        }
      ]
    },
    {
      "cell_type": "code",
      "metadata": {
        "id": "vxihoF8x3NXw",
        "colab_type": "code",
        "outputId": "cacc43da-dd1a-40cd-ab02-a8cf5b1b4251",
        "colab": {
          "base_uri": "https://localhost:8080/",
          "height": 51
        }
      },
      "source": [
        "r2_score = model.evaluate(X_test,Y_test)[1]\n",
        "print(r2_score)"
      ],
      "execution_count": 38,
      "outputs": [
        {
          "output_type": "stream",
          "text": [
            "3215/3215 [==============================] - 0s 20us/step\n",
            "0.014917324379109668\n"
          ],
          "name": "stdout"
        }
      ]
    },
    {
      "cell_type": "code",
      "metadata": {
        "id": "rMTrhoZ56Ejq",
        "colab_type": "code",
        "colab": {}
      },
      "source": [
        "val_loss = hist.history['val_loss']\n",
        "train_loss = hist.history['loss']"
      ],
      "execution_count": 0,
      "outputs": []
    },
    {
      "cell_type": "code",
      "metadata": {
        "id": "1EiXgxAH6MIR",
        "colab_type": "code",
        "colab": {}
      },
      "source": [
        "r2_score_train = hist.history['r2_score']\n",
        "r2_score_val = hist.history['val_r2_score']"
      ],
      "execution_count": 0,
      "outputs": []
    },
    {
      "cell_type": "code",
      "metadata": {
        "id": "PHZ_CsEv6QQD",
        "colab_type": "code",
        "outputId": "08f7d32c-30b5-4f10-e0ec-5f6ce13bc23e",
        "colab": {
          "base_uri": "https://localhost:8080/",
          "height": 533
        }
      },
      "source": [
        "plt.plot(r2_score_train,label=\"Train Score\")\n",
        "plt.plot(r2_score_val,label=\"Val Score\")\n",
        "plt.legend()\n",
        "plt.title(\"R2 score\")\n",
        "plt.xlabel(\"Epochs\")\n",
        "plt.ylabel(\"R2 score\")\n",
        "plt.show()"
      ],
      "execution_count": 43,
      "outputs": [
        {
          "output_type": "display_data",
          "data": {
            "image/png": "[encoded data removed]",
            "text/plain": [
              "<Figure size 842.4x595.44 with 1 Axes>"
            ]
          },
          "metadata": {
            "tags": []
          }
        }
      ]
    },
    {
      "cell_type": "code",
      "metadata": {
        "id": "m4fo3m5l_7co",
        "colab_type": "code",
        "colab": {}
      },
      "source": [
        "y_pred=model.predict(X_test)"
      ],
      "execution_count": 0,
      "outputs": []
    },
    {
      "cell_type": "code",
      "metadata": {
        "id": "4xue6mPeC20O",
        "colab_type": "code",
        "outputId": "fa59bfd3-6c14-466e-9987-6d0801fc9170",
        "colab": {
          "base_uri": "https://localhost:8080/",
          "height": 669
        }
      },
      "source": [
        "Y_test[:20]"
      ],
      "execution_count": 48,
      "outputs": [
        {
          "output_type": "execute_result",
          "data": {
            "text/html": [
              "<div>\n",
              "<style scoped>\n",
              "    .dataframe tbody tr th:only-of-type {\n",
              "        vertical-align: middle;\n",
              "    }\n",
              "\n",
              "    .dataframe tbody tr th {\n",
              "        vertical-align: top;\n",
              "    }\n",
              "\n",
              "    .dataframe thead th {\n",
              "        text-align: right;\n",
              "    }\n",
              "</style>\n",
              "<table border=\"1\" class=\"dataframe\">\n",
              "  <thead>\n",
              "    <tr style=\"text-align: right;\">\n",
              "      <th></th>\n",
              "      <th>Infect_Prob</th>\n",
              "    </tr>\n",
              "  </thead>\n",
              "  <tbody>\n",
              "    <tr>\n",
              "      <th>9608</th>\n",
              "      <td>53.495323</td>\n",
              "    </tr>\n",
              "    <tr>\n",
              "      <th>4512</th>\n",
              "      <td>47.999307</td>\n",
              "    </tr>\n",
              "    <tr>\n",
              "      <th>6105</th>\n",
              "      <td>90.797760</td>\n",
              "    </tr>\n",
              "    <tr>\n",
              "      <th>8219</th>\n",
              "      <td>48.284109</td>\n",
              "    </tr>\n",
              "    <tr>\n",
              "      <th>5871</th>\n",
              "      <td>47.901891</td>\n",
              "    </tr>\n",
              "    <tr>\n",
              "      <th>3706</th>\n",
              "      <td>48.871053</td>\n",
              "    </tr>\n",
              "    <tr>\n",
              "      <th>10270</th>\n",
              "      <td>57.662462</td>\n",
              "    </tr>\n",
              "    <tr>\n",
              "      <th>651</th>\n",
              "      <td>77.129280</td>\n",
              "    </tr>\n",
              "    <tr>\n",
              "      <th>6579</th>\n",
              "      <td>46.187543</td>\n",
              "    </tr>\n",
              "    <tr>\n",
              "      <th>5524</th>\n",
              "      <td>46.791737</td>\n",
              "    </tr>\n",
              "    <tr>\n",
              "      <th>8939</th>\n",
              "      <td>48.833908</td>\n",
              "    </tr>\n",
              "    <tr>\n",
              "      <th>1563</th>\n",
              "      <td>48.558533</td>\n",
              "    </tr>\n",
              "    <tr>\n",
              "      <th>3219</th>\n",
              "      <td>46.943690</td>\n",
              "    </tr>\n",
              "    <tr>\n",
              "      <th>6894</th>\n",
              "      <td>51.195812</td>\n",
              "    </tr>\n",
              "    <tr>\n",
              "      <th>4438</th>\n",
              "      <td>59.681936</td>\n",
              "    </tr>\n",
              "    <tr>\n",
              "      <th>5700</th>\n",
              "      <td>45.661172</td>\n",
              "    </tr>\n",
              "    <tr>\n",
              "      <th>10300</th>\n",
              "      <td>29.289600</td>\n",
              "    </tr>\n",
              "    <tr>\n",
              "      <th>9063</th>\n",
              "      <td>47.081640</td>\n",
              "    </tr>\n",
              "    <tr>\n",
              "      <th>9931</th>\n",
              "      <td>52.656671</td>\n",
              "    </tr>\n",
              "    <tr>\n",
              "      <th>5136</th>\n",
              "      <td>46.595000</td>\n",
              "    </tr>\n",
              "  </tbody>\n",
              "</table>\n",
              "</div>"
            ],
            "text/plain": [
              "       Infect_Prob\n",
              "9608     53.495323\n",
              "4512     47.999307\n",
              "6105     90.797760\n",
              "8219     48.284109\n",
              "5871     47.901891\n",
              "3706     48.871053\n",
              "10270    57.662462\n",
              "651      77.129280\n",
              "6579     46.187543\n",
              "5524     46.791737\n",
              "8939     48.833908\n",
              "1563     48.558533\n",
              "3219     46.943690\n",
              "6894     51.195812\n",
              "4438     59.681936\n",
              "5700     45.661172\n",
              "10300    29.289600\n",
              "9063     47.081640\n",
              "9931     52.656671\n",
              "5136     46.595000"
            ]
          },
          "metadata": {
            "tags": []
          },
          "execution_count": 48
        }
      ]
    },
    {
      "cell_type": "code",
      "metadata": {
        "id": "T_OiBcpGDDKA",
        "colab_type": "code",
        "colab": {}
      },
      "source": [
        "y = pd.DataFrame( y_pred)"
      ],
      "execution_count": 0,
      "outputs": []
    },
    {
      "cell_type": "code",
      "metadata": {
        "id": "DUMqc7BUDKn1",
        "colab_type": "code",
        "outputId": "91742f02-fc5d-4b61-fde1-7067ff78816d",
        "colab": {
          "base_uri": "https://localhost:8080/",
          "height": 669
        }
      },
      "source": [
        "y[:20]"
      ],
      "execution_count": 50,
      "outputs": [
        {
          "output_type": "execute_result",
          "data": {
            "text/html": [
              "<div>\n",
              "<style scoped>\n",
              "    .dataframe tbody tr th:only-of-type {\n",
              "        vertical-align: middle;\n",
              "    }\n",
              "\n",
              "    .dataframe tbody tr th {\n",
              "        vertical-align: top;\n",
              "    }\n",
              "\n",
              "    .dataframe thead th {\n",
              "        text-align: right;\n",
              "    }\n",
              "</style>\n",
              "<table border=\"1\" class=\"dataframe\">\n",
              "  <thead>\n",
              "    <tr style=\"text-align: right;\">\n",
              "      <th></th>\n",
              "      <th>0</th>\n",
              "    </tr>\n",
              "  </thead>\n",
              "  <tbody>\n",
              "    <tr>\n",
              "      <th>0</th>\n",
              "      <td>52.645294</td>\n",
              "    </tr>\n",
              "    <tr>\n",
              "      <th>1</th>\n",
              "      <td>47.746620</td>\n",
              "    </tr>\n",
              "    <tr>\n",
              "      <th>2</th>\n",
              "      <td>61.182220</td>\n",
              "    </tr>\n",
              "    <tr>\n",
              "      <th>3</th>\n",
              "      <td>43.550617</td>\n",
              "    </tr>\n",
              "    <tr>\n",
              "      <th>4</th>\n",
              "      <td>44.686504</td>\n",
              "    </tr>\n",
              "    <tr>\n",
              "      <th>5</th>\n",
              "      <td>45.955666</td>\n",
              "    </tr>\n",
              "    <tr>\n",
              "      <th>6</th>\n",
              "      <td>50.019016</td>\n",
              "    </tr>\n",
              "    <tr>\n",
              "      <th>7</th>\n",
              "      <td>64.493141</td>\n",
              "    </tr>\n",
              "    <tr>\n",
              "      <th>8</th>\n",
              "      <td>43.460617</td>\n",
              "    </tr>\n",
              "    <tr>\n",
              "      <th>9</th>\n",
              "      <td>43.105518</td>\n",
              "    </tr>\n",
              "    <tr>\n",
              "      <th>10</th>\n",
              "      <td>44.961834</td>\n",
              "    </tr>\n",
              "    <tr>\n",
              "      <th>11</th>\n",
              "      <td>49.145149</td>\n",
              "    </tr>\n",
              "    <tr>\n",
              "      <th>12</th>\n",
              "      <td>39.599564</td>\n",
              "    </tr>\n",
              "    <tr>\n",
              "      <th>13</th>\n",
              "      <td>52.131428</td>\n",
              "    </tr>\n",
              "    <tr>\n",
              "      <th>14</th>\n",
              "      <td>49.228905</td>\n",
              "    </tr>\n",
              "    <tr>\n",
              "      <th>15</th>\n",
              "      <td>40.371372</td>\n",
              "    </tr>\n",
              "    <tr>\n",
              "      <th>16</th>\n",
              "      <td>66.147827</td>\n",
              "    </tr>\n",
              "    <tr>\n",
              "      <th>17</th>\n",
              "      <td>43.169689</td>\n",
              "    </tr>\n",
              "    <tr>\n",
              "      <th>18</th>\n",
              "      <td>48.831955</td>\n",
              "    </tr>\n",
              "    <tr>\n",
              "      <th>19</th>\n",
              "      <td>51.456516</td>\n",
              "    </tr>\n",
              "  </tbody>\n",
              "</table>\n",
              "</div>"
            ],
            "text/plain": [
              "            0\n",
              "0   52.645294\n",
              "1   47.746620\n",
              "2   61.182220\n",
              "3   43.550617\n",
              "4   44.686504\n",
              "5   45.955666\n",
              "6   50.019016\n",
              "7   64.493141\n",
              "8   43.460617\n",
              "9   43.105518\n",
              "10  44.961834\n",
              "11  49.145149\n",
              "12  39.599564\n",
              "13  52.131428\n",
              "14  49.228905\n",
              "15  40.371372\n",
              "16  66.147827\n",
              "17  43.169689\n",
              "18  48.831955\n",
              "19  51.456516"
            ]
          },
          "metadata": {
            "tags": []
          },
          "execution_count": 50
        }
      ]
    },
    {
      "cell_type": "code",
      "metadata": {
        "id": "TGHcB4ULBEZG",
        "colab_type": "code",
        "colab": {}
      },
      "source": [
        "people_ID=test_data.people_ID"
      ],
      "execution_count": 0,
      "outputs": []
    },
    {
      "cell_type": "markdown",
      "metadata": {
        "id": "itW3tIbbDMWs",
        "colab_type": "text"
      },
      "source": [
        "# Getting the test file and using label encoder on it"
      ]
    },
    {
      "cell_type": "code",
      "metadata": {
        "id": "bawEbWueAZZF",
        "colab_type": "code",
        "colab": {}
      },
      "source": [
        "test_data=test_data.drop(columns_to_drop,axis=1)"
      ],
      "execution_count": 0,
      "outputs": []
    },
    {
      "cell_type": "code",
      "metadata": {
        "id": "iZzaLtal5jQV",
        "colab_type": "code",
        "colab": {}
      },
      "source": [
        "from sklearn.preprocessing import LabelEncoder\n",
        "\n",
        "le = LabelEncoder()\n",
        "\n",
        "test_data[\"Gender\"] = le.fit_transform(test_data[\"Gender\"])\n",
        "test_data[\"Region\"] = le.fit_transform(test_data[\"Region\"])\n",
        "test_data[\"Married\"] = le.fit_transform(test_data[\"Married\"])\n",
        "test_data[\"Occupation\"] = le.fit_transform(test_data[\"Occupation\"])\n",
        "test_data[\"Mode_transport\"] = le.fit_transform(test_data[\"Mode_transport\"])\n",
        "test_data[\"comorbidity\"] = le.fit_transform(test_data[\"comorbidity\"])\n",
        "test_data[\"Pulmonary score\"] = le.fit_transform(test_data[\"Pulmonary score\"])\n",
        "test_data[\"cardiological pressure\"] = le.fit_transform(test_data[\"cardiological pressure\"])"
      ],
      "execution_count": 0,
      "outputs": []
    },
    {
      "cell_type": "code",
      "metadata": {
        "id": "FDQp5cJQAlp-",
        "colab_type": "code",
        "colab": {}
      },
      "source": [
        "preds = model.predict(test_data.values)"
      ],
      "execution_count": 0,
      "outputs": []
    },
    {
      "cell_type": "code",
      "metadata": {
        "id": "Ha-mjMbMAsC7",
        "colab_type": "code",
        "colab": {}
      },
      "source": [
        "preds_data = pd.DataFrame(data=preds, columns=['Infect_prob'])"
      ],
      "execution_count": 0,
      "outputs": []
    },
    {
      "cell_type": "markdown",
      "metadata": {
        "id": "_PQTct0mDUwv",
        "colab_type": "text"
      },
      "source": [
        "# convert to csv file"
      ]
    },
    {
      "cell_type": "code",
      "metadata": {
        "id": "n8MjfhezAyXj",
        "colab_type": "code",
        "colab": {}
      },
      "source": [
        "result = pd.concat([people_ID, preds_data], axis=1)"
      ],
      "execution_count": 0,
      "outputs": []
    },
    {
      "cell_type": "code",
      "metadata": {
        "id": "pbTiVnMKA2EN",
        "colab_type": "code",
        "colab": {}
      },
      "source": [
        "result.to_csv('infect_prob.csv', index=False)"
      ],
      "execution_count": 0,
      "outputs": []
    }
  ]
}