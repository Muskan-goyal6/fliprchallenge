{
  "nbformat": 4,
  "nbformat_minor": 0,
  "metadata": {
    "colab": {
      "name": "Untitled10.ipynb",
      "provenance": []
    },
    "kernelspec": {
      "name": "python3",
      "display_name": "Python 3"
    },
    "accelerator": "GPU"
  },
  "cells": [
    {
      "cell_type": "code",
      "metadata": {
        "id": "91AAIXyIEB8I",
        "colab_type": "code",
        "colab": {
          "base_uri": "https://localhost:8080/",
          "height": 80
        },
        "outputId": "59bfe307-aa73-4c99-c40a-8d9fa0848809"
      },
      "source": [
        "import numpy as np\n",
        "import pandas as pd\n",
        "from pandas import Grouper\n",
        "import matplotlib.pyplot as plt\n",
        "%matplotlib inline\n",
        "import seaborn as sns\n",
        "from statsmodels.tools.eval_measures import rmse\n",
        "from sklearn.preprocessing import MinMaxScaler\n",
        "from keras.preprocessing.sequence import TimeseriesGenerator\n",
        "from keras.models import Sequential\n",
        "from keras.layers import Dense\n",
        "from keras.layers import LSTM\n",
        "from keras.layers import Dropout\n",
        "from keras.utils import *\n",
        "import keras.metrics as metrics\n",
        "import warnings\n",
        "warnings.filterwarnings(\"ignore\")"
      ],
      "execution_count": 3,
      "outputs": [
        {
          "output_type": "stream",
          "text": [
            "Using TensorFlow backend.\n"
          ],
          "name": "stderr"
        },
        {
          "output_type": "display_data",
          "data": {
            "text/html": [
              "<p style=\"color: red;\">\n",
              "The default version of TensorFlow in Colab will soon switch to TensorFlow 2.x.<br>\n",
              "We recommend you <a href=\"https://www.tensorflow.org/guide/migrate\" target=\"_blank\">upgrade</a> now \n",
              "or ensure your notebook will continue to use TensorFlow 1.x via the <code>%tensorflow_version 1.x</code> magic:\n",
              "<a href=\"https://colab.research.google.com/notebooks/tensorflow_version.ipynb\" target=\"_blank\">more info</a>.</p>\n"
            ],
            "text/plain": [
              "<IPython.core.display.HTML object>"
            ]
          },
          "metadata": {
            "tags": []
          }
        }
      ]
    },
    {
      "cell_type": "code",
      "metadata": {
        "id": "-sF2GbULEFW7",
        "colab_type": "code",
        "colab": {}
      },
      "source": [
        "train_df = pd.read_excel(\"/content/drive/My Drive/Corona/Train_dataset (1).xlsx\",sheet_name='Diuresis_TS')"
      ],
      "execution_count": 0,
      "outputs": []
    },
    {
      "cell_type": "code",
      "metadata": {
        "id": "rY51wS0mEVf1",
        "colab_type": "code",
        "colab": {}
      },
      "source": [
        "people_ID = train_df.people_ID\n",
        "train_cp = train_df.drop(columns=['people_ID'], axis=1)"
      ],
      "execution_count": 0,
      "outputs": []
    },
    {
      "cell_type": "code",
      "metadata": {
        "id": "RRvVr1a0EdSO",
        "colab_type": "code",
        "colab": {}
      },
      "source": [
        "cols = train_cp.columns"
      ],
      "execution_count": 0,
      "outputs": []
    },
    {
      "cell_type": "code",
      "metadata": {
        "id": "dT9yE4U5EuTV",
        "colab_type": "code",
        "colab": {
          "base_uri": "https://localhost:8080/",
          "height": 314
        },
        "outputId": "0b3f0b74-4c5a-4ca3-b8f7-dbbda1aae3da"
      },
      "source": [
        "train_cp.describe()\n"
      ],
      "execution_count": 7,
      "outputs": [
        {
          "output_type": "execute_result",
          "data": {
            "text/html": [
              "<div>\n",
              "<style scoped>\n",
              "    .dataframe tbody tr th:only-of-type {\n",
              "        vertical-align: middle;\n",
              "    }\n",
              "\n",
              "    .dataframe tbody tr th {\n",
              "        vertical-align: top;\n",
              "    }\n",
              "\n",
              "    .dataframe thead th {\n",
              "        text-align: right;\n",
              "    }\n",
              "</style>\n",
              "<table border=\"1\" class=\"dataframe\">\n",
              "  <thead>\n",
              "    <tr style=\"text-align: right;\">\n",
              "      <th></th>\n",
              "      <th>2020-03-20 00:00:00</th>\n",
              "      <th>2020-03-21 00:00:00</th>\n",
              "      <th>2020-03-22 00:00:00</th>\n",
              "      <th>2020-03-23 00:00:00</th>\n",
              "      <th>2020-03-24 00:00:00</th>\n",
              "      <th>2020-03-25 00:00:00</th>\n",
              "      <th>2020-03-26 00:00:00</th>\n",
              "    </tr>\n",
              "  </thead>\n",
              "  <tbody>\n",
              "    <tr>\n",
              "      <th>count</th>\n",
              "      <td>10714.000000</td>\n",
              "      <td>10714.000000</td>\n",
              "      <td>10714.000000</td>\n",
              "      <td>10714.000000</td>\n",
              "      <td>10714.000000</td>\n",
              "      <td>10714.000000</td>\n",
              "      <td>10714.000000</td>\n",
              "    </tr>\n",
              "    <tr>\n",
              "      <th>mean</th>\n",
              "      <td>278.877357</td>\n",
              "      <td>349.147508</td>\n",
              "      <td>434.360993</td>\n",
              "      <td>537.435133</td>\n",
              "      <td>660.177788</td>\n",
              "      <td>805.213345</td>\n",
              "      <td>981.255343</td>\n",
              "    </tr>\n",
              "    <tr>\n",
              "      <th>std</th>\n",
              "      <td>97.945646</td>\n",
              "      <td>117.553040</td>\n",
              "      <td>141.053939</td>\n",
              "      <td>169.284924</td>\n",
              "      <td>203.155177</td>\n",
              "      <td>243.786212</td>\n",
              "      <td>292.538346</td>\n",
              "    </tr>\n",
              "    <tr>\n",
              "      <th>min</th>\n",
              "      <td>110.000000</td>\n",
              "      <td>145.000000</td>\n",
              "      <td>188.200000</td>\n",
              "      <td>240.440000</td>\n",
              "      <td>304.228000</td>\n",
              "      <td>378.073600</td>\n",
              "      <td>468.461120</td>\n",
              "    </tr>\n",
              "    <tr>\n",
              "      <th>25%</th>\n",
              "      <td>194.000000</td>\n",
              "      <td>247.800000</td>\n",
              "      <td>312.760000</td>\n",
              "      <td>391.384000</td>\n",
              "      <td>484.918600</td>\n",
              "      <td>594.902320</td>\n",
              "      <td>729.203328</td>\n",
              "    </tr>\n",
              "    <tr>\n",
              "      <th>50%</th>\n",
              "      <td>276.000000</td>\n",
              "      <td>346.200000</td>\n",
              "      <td>430.840000</td>\n",
              "      <td>533.064000</td>\n",
              "      <td>654.822400</td>\n",
              "      <td>798.786880</td>\n",
              "      <td>973.388672</td>\n",
              "    </tr>\n",
              "    <tr>\n",
              "      <th>75%</th>\n",
              "      <td>364.000000</td>\n",
              "      <td>451.000000</td>\n",
              "      <td>557.260000</td>\n",
              "      <td>685.136000</td>\n",
              "      <td>837.211600</td>\n",
              "      <td>1017.653920</td>\n",
              "      <td>1236.308736</td>\n",
              "    </tr>\n",
              "    <tr>\n",
              "      <th>max</th>\n",
              "      <td>450.000000</td>\n",
              "      <td>556.000000</td>\n",
              "      <td>683.800000</td>\n",
              "      <td>838.360000</td>\n",
              "      <td>1020.904000</td>\n",
              "      <td>1238.084800</td>\n",
              "      <td>1501.798080</td>\n",
              "    </tr>\n",
              "  </tbody>\n",
              "</table>\n",
              "</div>"
            ],
            "text/plain": [
              "         2020-03-20  ...    2020-03-26\n",
              "count  10714.000000  ...  10714.000000\n",
              "mean     278.877357  ...    981.255343\n",
              "std       97.945646  ...    292.538346\n",
              "min      110.000000  ...    468.461120\n",
              "25%      194.000000  ...    729.203328\n",
              "50%      276.000000  ...    973.388672\n",
              "75%      364.000000  ...   1236.308736\n",
              "max      450.000000  ...   1501.798080\n",
              "\n",
              "[8 rows x 7 columns]"
            ]
          },
          "metadata": {
            "tags": []
          },
          "execution_count": 7
        }
      ]
    },
    {
      "cell_type": "code",
      "metadata": {
        "id": "ZRBmo48QFMjg",
        "colab_type": "code",
        "colab": {
          "base_uri": "https://localhost:8080/",
          "height": 221
        },
        "outputId": "388f785a-0ed9-4481-8729-09e9e0d8116d"
      },
      "source": [
        "train_df.head()"
      ],
      "execution_count": 8,
      "outputs": [
        {
          "output_type": "execute_result",
          "data": {
            "text/html": [
              "<div>\n",
              "<style scoped>\n",
              "    .dataframe tbody tr th:only-of-type {\n",
              "        vertical-align: middle;\n",
              "    }\n",
              "\n",
              "    .dataframe tbody tr th {\n",
              "        vertical-align: top;\n",
              "    }\n",
              "\n",
              "    .dataframe thead th {\n",
              "        text-align: right;\n",
              "    }\n",
              "</style>\n",
              "<table border=\"1\" class=\"dataframe\">\n",
              "  <thead>\n",
              "    <tr style=\"text-align: right;\">\n",
              "      <th></th>\n",
              "      <th>people_ID</th>\n",
              "      <th>2020-03-20 00:00:00</th>\n",
              "      <th>2020-03-21 00:00:00</th>\n",
              "      <th>2020-03-22 00:00:00</th>\n",
              "      <th>2020-03-23 00:00:00</th>\n",
              "      <th>2020-03-24 00:00:00</th>\n",
              "      <th>2020-03-25 00:00:00</th>\n",
              "      <th>2020-03-26 00:00:00</th>\n",
              "    </tr>\n",
              "  </thead>\n",
              "  <tbody>\n",
              "    <tr>\n",
              "      <th>0</th>\n",
              "      <td>1</td>\n",
              "      <td>441</td>\n",
              "      <td>544.2</td>\n",
              "      <td>669.64</td>\n",
              "      <td>821.368</td>\n",
              "      <td>1002.2416</td>\n",
              "      <td>1215.68992</td>\n",
              "      <td>1472.627904</td>\n",
              "    </tr>\n",
              "    <tr>\n",
              "      <th>1</th>\n",
              "      <td>2</td>\n",
              "      <td>151</td>\n",
              "      <td>197.2</td>\n",
              "      <td>253.24</td>\n",
              "      <td>321.688</td>\n",
              "      <td>399.9256</td>\n",
              "      <td>492.91072</td>\n",
              "      <td>606.892864</td>\n",
              "    </tr>\n",
              "    <tr>\n",
              "      <th>2</th>\n",
              "      <td>3</td>\n",
              "      <td>416</td>\n",
              "      <td>515.2</td>\n",
              "      <td>632.44</td>\n",
              "      <td>776.728</td>\n",
              "      <td>947.7736</td>\n",
              "      <td>1150.32832</td>\n",
              "      <td>1395.793984</td>\n",
              "    </tr>\n",
              "    <tr>\n",
              "      <th>3</th>\n",
              "      <td>4</td>\n",
              "      <td>410</td>\n",
              "      <td>506.0</td>\n",
              "      <td>621.40</td>\n",
              "      <td>761.880</td>\n",
              "      <td>928.1560</td>\n",
              "      <td>1126.78720</td>\n",
              "      <td>1368.344640</td>\n",
              "    </tr>\n",
              "    <tr>\n",
              "      <th>4</th>\n",
              "      <td>5</td>\n",
              "      <td>390</td>\n",
              "      <td>483.0</td>\n",
              "      <td>595.00</td>\n",
              "      <td>730.200</td>\n",
              "      <td>892.8400</td>\n",
              "      <td>1084.40800</td>\n",
              "      <td>1315.889600</td>\n",
              "    </tr>\n",
              "  </tbody>\n",
              "</table>\n",
              "</div>"
            ],
            "text/plain": [
              "   people_ID  2020-03-20 00:00:00  ...  2020-03-25 00:00:00  2020-03-26 00:00:00\n",
              "0          1                  441  ...           1215.68992          1472.627904\n",
              "1          2                  151  ...            492.91072           606.892864\n",
              "2          3                  416  ...           1150.32832          1395.793984\n",
              "3          4                  410  ...           1126.78720          1368.344640\n",
              "4          5                  390  ...           1084.40800          1315.889600\n",
              "\n",
              "[5 rows x 8 columns]"
            ]
          },
          "metadata": {
            "tags": []
          },
          "execution_count": 8
        }
      ]
    },
    {
      "cell_type": "code",
      "metadata": {
        "id": "cPTlfowtFRUx",
        "colab_type": "code",
        "colab": {}
      },
      "source": [
        "train_transpose = train_cp.transpose()"
      ],
      "execution_count": 0,
      "outputs": []
    },
    {
      "cell_type": "code",
      "metadata": {
        "id": "rZTPBJRXFuQC",
        "colab_type": "code",
        "colab": {
          "base_uri": "https://localhost:8080/",
          "height": 423
        },
        "outputId": "1ee71f7d-c3f7-4e98-a1d2-37952e12dbc5"
      },
      "source": [
        "train_transpose.head()"
      ],
      "execution_count": 11,
      "outputs": [
        {
          "output_type": "execute_result",
          "data": {
            "text/html": [
              "<div>\n",
              "<style scoped>\n",
              "    .dataframe tbody tr th:only-of-type {\n",
              "        vertical-align: middle;\n",
              "    }\n",
              "\n",
              "    .dataframe tbody tr th {\n",
              "        vertical-align: top;\n",
              "    }\n",
              "\n",
              "    .dataframe thead th {\n",
              "        text-align: right;\n",
              "    }\n",
              "</style>\n",
              "<table border=\"1\" class=\"dataframe\">\n",
              "  <thead>\n",
              "    <tr style=\"text-align: right;\">\n",
              "      <th></th>\n",
              "      <th>0</th>\n",
              "      <th>1</th>\n",
              "      <th>2</th>\n",
              "      <th>3</th>\n",
              "      <th>4</th>\n",
              "      <th>5</th>\n",
              "      <th>6</th>\n",
              "      <th>7</th>\n",
              "      <th>8</th>\n",
              "      <th>9</th>\n",
              "      <th>10</th>\n",
              "      <th>11</th>\n",
              "      <th>12</th>\n",
              "      <th>13</th>\n",
              "      <th>14</th>\n",
              "      <th>15</th>\n",
              "      <th>16</th>\n",
              "      <th>17</th>\n",
              "      <th>18</th>\n",
              "      <th>19</th>\n",
              "      <th>20</th>\n",
              "      <th>21</th>\n",
              "      <th>22</th>\n",
              "      <th>23</th>\n",
              "      <th>24</th>\n",
              "      <th>25</th>\n",
              "      <th>26</th>\n",
              "      <th>27</th>\n",
              "      <th>28</th>\n",
              "      <th>29</th>\n",
              "      <th>30</th>\n",
              "      <th>31</th>\n",
              "      <th>32</th>\n",
              "      <th>33</th>\n",
              "      <th>34</th>\n",
              "      <th>35</th>\n",
              "      <th>36</th>\n",
              "      <th>37</th>\n",
              "      <th>38</th>\n",
              "      <th>39</th>\n",
              "      <th>...</th>\n",
              "      <th>10674</th>\n",
              "      <th>10675</th>\n",
              "      <th>10676</th>\n",
              "      <th>10677</th>\n",
              "      <th>10678</th>\n",
              "      <th>10679</th>\n",
              "      <th>10680</th>\n",
              "      <th>10681</th>\n",
              "      <th>10682</th>\n",
              "      <th>10683</th>\n",
              "      <th>10684</th>\n",
              "      <th>10685</th>\n",
              "      <th>10686</th>\n",
              "      <th>10687</th>\n",
              "      <th>10688</th>\n",
              "      <th>10689</th>\n",
              "      <th>10690</th>\n",
              "      <th>10691</th>\n",
              "      <th>10692</th>\n",
              "      <th>10693</th>\n",
              "      <th>10694</th>\n",
              "      <th>10695</th>\n",
              "      <th>10696</th>\n",
              "      <th>10697</th>\n",
              "      <th>10698</th>\n",
              "      <th>10699</th>\n",
              "      <th>10700</th>\n",
              "      <th>10701</th>\n",
              "      <th>10702</th>\n",
              "      <th>10703</th>\n",
              "      <th>10704</th>\n",
              "      <th>10705</th>\n",
              "      <th>10706</th>\n",
              "      <th>10707</th>\n",
              "      <th>10708</th>\n",
              "      <th>10709</th>\n",
              "      <th>10710</th>\n",
              "      <th>10711</th>\n",
              "      <th>10712</th>\n",
              "      <th>10713</th>\n",
              "    </tr>\n",
              "  </thead>\n",
              "  <tbody>\n",
              "    <tr>\n",
              "      <th>2020-03-20 00:00:00</th>\n",
              "      <td>441.0000</td>\n",
              "      <td>151.0000</td>\n",
              "      <td>416.0000</td>\n",
              "      <td>410.000</td>\n",
              "      <td>390.00</td>\n",
              "      <td>389.0000</td>\n",
              "      <td>322.0000</td>\n",
              "      <td>194.0000</td>\n",
              "      <td>310.000</td>\n",
              "      <td>242.0000</td>\n",
              "      <td>373.0000</td>\n",
              "      <td>192.0000</td>\n",
              "      <td>403.0000</td>\n",
              "      <td>120.000</td>\n",
              "      <td>382.0000</td>\n",
              "      <td>239.0000</td>\n",
              "      <td>199.0000</td>\n",
              "      <td>182.0000</td>\n",
              "      <td>181.0000</td>\n",
              "      <td>220.000</td>\n",
              "      <td>246.0000</td>\n",
              "      <td>220.000</td>\n",
              "      <td>415.000</td>\n",
              "      <td>203.0000</td>\n",
              "      <td>148.0000</td>\n",
              "      <td>381.0000</td>\n",
              "      <td>251.0000</td>\n",
              "      <td>185.000</td>\n",
              "      <td>365.000</td>\n",
              "      <td>405.000</td>\n",
              "      <td>240.000</td>\n",
              "      <td>236.0000</td>\n",
              "      <td>315.000</td>\n",
              "      <td>253.0000</td>\n",
              "      <td>289.0000</td>\n",
              "      <td>281.0000</td>\n",
              "      <td>200.00</td>\n",
              "      <td>365.000</td>\n",
              "      <td>189.0000</td>\n",
              "      <td>177.0000</td>\n",
              "      <td>...</td>\n",
              "      <td>436.0000</td>\n",
              "      <td>301.0000</td>\n",
              "      <td>149.0000</td>\n",
              "      <td>426.0000</td>\n",
              "      <td>268.0000</td>\n",
              "      <td>165.000</td>\n",
              "      <td>176.0000</td>\n",
              "      <td>178.0000</td>\n",
              "      <td>250.000</td>\n",
              "      <td>189.0000</td>\n",
              "      <td>411.0000</td>\n",
              "      <td>124.0000</td>\n",
              "      <td>302.0000</td>\n",
              "      <td>426.0000</td>\n",
              "      <td>395.00</td>\n",
              "      <td>388.0000</td>\n",
              "      <td>149.0000</td>\n",
              "      <td>418.0000</td>\n",
              "      <td>234.0000</td>\n",
              "      <td>159.0000</td>\n",
              "      <td>431.0000</td>\n",
              "      <td>248.0000</td>\n",
              "      <td>145.000</td>\n",
              "      <td>218.0000</td>\n",
              "      <td>372.0000</td>\n",
              "      <td>347.0000</td>\n",
              "      <td>379.0000</td>\n",
              "      <td>256.0000</td>\n",
              "      <td>417.0000</td>\n",
              "      <td>389.0000</td>\n",
              "      <td>339.0000</td>\n",
              "      <td>241.0000</td>\n",
              "      <td>183.0000</td>\n",
              "      <td>297.0000</td>\n",
              "      <td>397.0000</td>\n",
              "      <td>134.0000</td>\n",
              "      <td>387.0000</td>\n",
              "      <td>177.0000</td>\n",
              "      <td>352.0000</td>\n",
              "      <td>181.0000</td>\n",
              "    </tr>\n",
              "    <tr>\n",
              "      <th>2020-03-21 00:00:00</th>\n",
              "      <td>544.2000</td>\n",
              "      <td>197.2000</td>\n",
              "      <td>515.2000</td>\n",
              "      <td>506.000</td>\n",
              "      <td>483.00</td>\n",
              "      <td>480.8000</td>\n",
              "      <td>401.4000</td>\n",
              "      <td>246.8000</td>\n",
              "      <td>385.000</td>\n",
              "      <td>303.4000</td>\n",
              "      <td>463.6000</td>\n",
              "      <td>245.4000</td>\n",
              "      <td>497.6000</td>\n",
              "      <td>157.000</td>\n",
              "      <td>474.4000</td>\n",
              "      <td>301.8000</td>\n",
              "      <td>253.8000</td>\n",
              "      <td>232.4000</td>\n",
              "      <td>233.2000</td>\n",
              "      <td>279.000</td>\n",
              "      <td>308.2000</td>\n",
              "      <td>278.000</td>\n",
              "      <td>514.000</td>\n",
              "      <td>258.6000</td>\n",
              "      <td>190.6000</td>\n",
              "      <td>473.2000</td>\n",
              "      <td>315.2000</td>\n",
              "      <td>236.000</td>\n",
              "      <td>454.000</td>\n",
              "      <td>501.000</td>\n",
              "      <td>304.000</td>\n",
              "      <td>297.2000</td>\n",
              "      <td>393.000</td>\n",
              "      <td>317.6000</td>\n",
              "      <td>360.8000</td>\n",
              "      <td>351.2000</td>\n",
              "      <td>253.00</td>\n",
              "      <td>453.000</td>\n",
              "      <td>239.8000</td>\n",
              "      <td>225.4000</td>\n",
              "      <td>...</td>\n",
              "      <td>536.2000</td>\n",
              "      <td>376.2000</td>\n",
              "      <td>194.8000</td>\n",
              "      <td>526.2000</td>\n",
              "      <td>334.6000</td>\n",
              "      <td>214.000</td>\n",
              "      <td>224.2000</td>\n",
              "      <td>226.6000</td>\n",
              "      <td>314.000</td>\n",
              "      <td>240.8000</td>\n",
              "      <td>508.2000</td>\n",
              "      <td>163.8000</td>\n",
              "      <td>376.4000</td>\n",
              "      <td>526.2000</td>\n",
              "      <td>487.00</td>\n",
              "      <td>481.6000</td>\n",
              "      <td>192.8000</td>\n",
              "      <td>515.6000</td>\n",
              "      <td>295.8000</td>\n",
              "      <td>203.8000</td>\n",
              "      <td>532.2000</td>\n",
              "      <td>312.6000</td>\n",
              "      <td>187.000</td>\n",
              "      <td>274.6000</td>\n",
              "      <td>461.4000</td>\n",
              "      <td>430.4000</td>\n",
              "      <td>467.8000</td>\n",
              "      <td>320.2000</td>\n",
              "      <td>515.4000</td>\n",
              "      <td>479.8000</td>\n",
              "      <td>420.8000</td>\n",
              "      <td>305.2000</td>\n",
              "      <td>232.6000</td>\n",
              "      <td>370.4000</td>\n",
              "      <td>489.4000</td>\n",
              "      <td>173.8000</td>\n",
              "      <td>479.4000</td>\n",
              "      <td>228.4000</td>\n",
              "      <td>438.4000</td>\n",
              "      <td>230.2000</td>\n",
              "    </tr>\n",
              "    <tr>\n",
              "      <th>2020-03-22 00:00:00</th>\n",
              "      <td>669.6400</td>\n",
              "      <td>253.2400</td>\n",
              "      <td>632.4400</td>\n",
              "      <td>621.400</td>\n",
              "      <td>595.00</td>\n",
              "      <td>591.1600</td>\n",
              "      <td>497.0800</td>\n",
              "      <td>310.3600</td>\n",
              "      <td>477.400</td>\n",
              "      <td>379.4800</td>\n",
              "      <td>570.5200</td>\n",
              "      <td>309.8800</td>\n",
              "      <td>612.5200</td>\n",
              "      <td>203.800</td>\n",
              "      <td>583.4800</td>\n",
              "      <td>377.5600</td>\n",
              "      <td>318.7600</td>\n",
              "      <td>295.4800</td>\n",
              "      <td>295.2400</td>\n",
              "      <td>351.400</td>\n",
              "      <td>385.2400</td>\n",
              "      <td>350.200</td>\n",
              "      <td>632.200</td>\n",
              "      <td>324.5200</td>\n",
              "      <td>242.9200</td>\n",
              "      <td>584.4400</td>\n",
              "      <td>392.4400</td>\n",
              "      <td>299.800</td>\n",
              "      <td>560.200</td>\n",
              "      <td>616.600</td>\n",
              "      <td>380.200</td>\n",
              "      <td>372.0400</td>\n",
              "      <td>485.800</td>\n",
              "      <td>397.7200</td>\n",
              "      <td>448.3600</td>\n",
              "      <td>436.8400</td>\n",
              "      <td>319.00</td>\n",
              "      <td>557.800</td>\n",
              "      <td>303.1600</td>\n",
              "      <td>285.8800</td>\n",
              "      <td>...</td>\n",
              "      <td>658.8400</td>\n",
              "      <td>468.0400</td>\n",
              "      <td>250.3600</td>\n",
              "      <td>648.0400</td>\n",
              "      <td>418.1200</td>\n",
              "      <td>272.200</td>\n",
              "      <td>284.4400</td>\n",
              "      <td>286.1200</td>\n",
              "      <td>393.400</td>\n",
              "      <td>304.3600</td>\n",
              "      <td>626.4400</td>\n",
              "      <td>213.1600</td>\n",
              "      <td>467.0800</td>\n",
              "      <td>646.8400</td>\n",
              "      <td>601.00</td>\n",
              "      <td>594.5200</td>\n",
              "      <td>245.5600</td>\n",
              "      <td>634.1200</td>\n",
              "      <td>369.1600</td>\n",
              "      <td>261.1600</td>\n",
              "      <td>652.8400</td>\n",
              "      <td>391.7200</td>\n",
              "      <td>238.600</td>\n",
              "      <td>344.9200</td>\n",
              "      <td>570.2800</td>\n",
              "      <td>530.6800</td>\n",
              "      <td>576.7600</td>\n",
              "      <td>399.6400</td>\n",
              "      <td>632.6800</td>\n",
              "      <td>589.9600</td>\n",
              "      <td>519.1600</td>\n",
              "      <td>382.8400</td>\n",
              "      <td>293.3200</td>\n",
              "      <td>459.8800</td>\n",
              "      <td>603.8800</td>\n",
              "      <td>225.1600</td>\n",
              "      <td>591.8800</td>\n",
              "      <td>288.2800</td>\n",
              "      <td>542.6800</td>\n",
              "      <td>290.4400</td>\n",
              "    </tr>\n",
              "    <tr>\n",
              "      <th>2020-03-23 00:00:00</th>\n",
              "      <td>821.3680</td>\n",
              "      <td>321.6880</td>\n",
              "      <td>776.7280</td>\n",
              "      <td>761.880</td>\n",
              "      <td>730.20</td>\n",
              "      <td>723.9920</td>\n",
              "      <td>611.0960</td>\n",
              "      <td>388.6320</td>\n",
              "      <td>589.080</td>\n",
              "      <td>469.9760</td>\n",
              "      <td>702.4240</td>\n",
              "      <td>389.6560</td>\n",
              "      <td>751.2240</td>\n",
              "      <td>262.360</td>\n",
              "      <td>717.9760</td>\n",
              "      <td>470.8720</td>\n",
              "      <td>398.7120</td>\n",
              "      <td>372.3760</td>\n",
              "      <td>372.0880</td>\n",
              "      <td>439.480</td>\n",
              "      <td>480.0880</td>\n",
              "      <td>436.440</td>\n",
              "      <td>776.440</td>\n",
              "      <td>404.0240</td>\n",
              "      <td>309.3040</td>\n",
              "      <td>719.1280</td>\n",
              "      <td>485.5280</td>\n",
              "      <td>377.560</td>\n",
              "      <td>688.440</td>\n",
              "      <td>754.520</td>\n",
              "      <td>474.040</td>\n",
              "      <td>464.2480</td>\n",
              "      <td>600.760</td>\n",
              "      <td>491.8640</td>\n",
              "      <td>555.8320</td>\n",
              "      <td>542.0080</td>\n",
              "      <td>400.60</td>\n",
              "      <td>685.560</td>\n",
              "      <td>378.3920</td>\n",
              "      <td>360.8560</td>\n",
              "      <td>...</td>\n",
              "      <td>805.2080</td>\n",
              "      <td>577.8480</td>\n",
              "      <td>318.2320</td>\n",
              "      <td>793.8480</td>\n",
              "      <td>519.5440</td>\n",
              "      <td>342.840</td>\n",
              "      <td>355.9280</td>\n",
              "      <td>361.1440</td>\n",
              "      <td>489.880</td>\n",
              "      <td>381.4320</td>\n",
              "      <td>769.5280</td>\n",
              "      <td>271.9920</td>\n",
              "      <td>576.6960</td>\n",
              "      <td>792.4080</td>\n",
              "      <td>735.80</td>\n",
              "      <td>728.0240</td>\n",
              "      <td>312.4720</td>\n",
              "      <td>775.5440</td>\n",
              "      <td>460.7920</td>\n",
              "      <td>329.5920</td>\n",
              "      <td>798.0080</td>\n",
              "      <td>487.8640</td>\n",
              "      <td>304.120</td>\n",
              "      <td>428.5040</td>\n",
              "      <td>698.9360</td>\n",
              "      <td>651.4160</td>\n",
              "      <td>708.3120</td>\n",
              "      <td>497.3680</td>\n",
              "      <td>777.0160</td>\n",
              "      <td>722.5520</td>\n",
              "      <td>639.1920</td>\n",
              "      <td>477.2080</td>\n",
              "      <td>368.1840</td>\n",
              "      <td>568.0560</td>\n",
              "      <td>742.4560</td>\n",
              "      <td>287.9920</td>\n",
              "      <td>724.8560</td>\n",
              "      <td>362.1360</td>\n",
              "      <td>665.8160</td>\n",
              "      <td>366.3280</td>\n",
              "    </tr>\n",
              "    <tr>\n",
              "      <th>2020-03-24 00:00:00</th>\n",
              "      <td>1002.2416</td>\n",
              "      <td>399.9256</td>\n",
              "      <td>947.7736</td>\n",
              "      <td>928.156</td>\n",
              "      <td>892.84</td>\n",
              "      <td>882.6904</td>\n",
              "      <td>749.0152</td>\n",
              "      <td>482.9584</td>\n",
              "      <td>720.796</td>\n",
              "      <td>578.7712</td>\n",
              "      <td>857.7088</td>\n",
              "      <td>482.3872</td>\n",
              "      <td>917.1688</td>\n",
              "      <td>328.732</td>\n",
              "      <td>876.3712</td>\n",
              "      <td>580.7464</td>\n",
              "      <td>494.1544</td>\n",
              "      <td>461.6512</td>\n",
              "      <td>463.1056</td>\n",
              "      <td>542.176</td>\n",
              "      <td>590.9056</td>\n",
              "      <td>539.428</td>\n",
              "      <td>945.628</td>\n",
              "      <td>500.5288</td>\n",
              "      <td>386.8648</td>\n",
              "      <td>877.7536</td>\n",
              "      <td>596.5336</td>\n",
              "      <td>468.772</td>\n",
              "      <td>841.828</td>\n",
              "      <td>921.124</td>\n",
              "      <td>582.748</td>\n",
              "      <td>573.6976</td>\n",
              "      <td>736.612</td>\n",
              "      <td>605.0368</td>\n",
              "      <td>680.8984</td>\n",
              "      <td>665.2096</td>\n",
              "      <td>496.42</td>\n",
              "      <td>838.372</td>\n",
              "      <td>469.7704</td>\n",
              "      <td>448.7272</td>\n",
              "      <td>...</td>\n",
              "      <td>981.9496</td>\n",
              "      <td>710.0176</td>\n",
              "      <td>398.4784</td>\n",
              "      <td>968.3176</td>\n",
              "      <td>639.1528</td>\n",
              "      <td>426.208</td>\n",
              "      <td>441.9136</td>\n",
              "      <td>447.2728</td>\n",
              "      <td>603.556</td>\n",
              "      <td>473.4184</td>\n",
              "      <td>940.0336</td>\n",
              "      <td>342.9904</td>\n",
              "      <td>707.7352</td>\n",
              "      <td>966.5896</td>\n",
              "      <td>896.86</td>\n",
              "      <td>889.3288</td>\n",
              "      <td>390.6664</td>\n",
              "      <td>944.5528</td>\n",
              "      <td>568.6504</td>\n",
              "      <td>411.2104</td>\n",
              "      <td>973.3096</td>\n",
              "      <td>602.0368</td>\n",
              "      <td>379.744</td>\n",
              "      <td>529.9048</td>\n",
              "      <td>853.5232</td>\n",
              "      <td>795.5992</td>\n",
              "      <td>863.8744</td>\n",
              "      <td>612.5416</td>\n",
              "      <td>949.0192</td>\n",
              "      <td>881.8624</td>\n",
              "      <td>780.9304</td>\n",
              "      <td>588.3496</td>\n",
              "      <td>458.4208</td>\n",
              "      <td>698.2672</td>\n",
              "      <td>906.6472</td>\n",
              "      <td>359.4904</td>\n",
              "      <td>884.6272</td>\n",
              "      <td>448.4632</td>\n",
              "      <td>814.6792</td>\n",
              "      <td>455.2936</td>\n",
              "    </tr>\n",
              "  </tbody>\n",
              "</table>\n",
              "<p>5 rows × 10714 columns</p>\n",
              "</div>"
            ],
            "text/plain": [
              "                         0         1      ...     10712     10713\n",
              "2020-03-20 00:00:00   441.0000  151.0000  ...  352.0000  181.0000\n",
              "2020-03-21 00:00:00   544.2000  197.2000  ...  438.4000  230.2000\n",
              "2020-03-22 00:00:00   669.6400  253.2400  ...  542.6800  290.4400\n",
              "2020-03-23 00:00:00   821.3680  321.6880  ...  665.8160  366.3280\n",
              "2020-03-24 00:00:00  1002.2416  399.9256  ...  814.6792  455.2936\n",
              "\n",
              "[5 rows x 10714 columns]"
            ]
          },
          "metadata": {
            "tags": []
          },
          "execution_count": 11
        }
      ]
    },
    {
      "cell_type": "code",
      "metadata": {
        "id": "71vtQKs_FyPp",
        "colab_type": "code",
        "colab": {}
      },
      "source": [
        "train_transpose['date'] = train_transpose.index"
      ],
      "execution_count": 0,
      "outputs": []
    },
    {
      "cell_type": "code",
      "metadata": {
        "id": "edtWWYUsF58J",
        "colab_type": "code",
        "colab": {}
      },
      "source": [
        "train_transpose = train_transpose.reset_index(drop=True)"
      ],
      "execution_count": 0,
      "outputs": []
    },
    {
      "cell_type": "code",
      "metadata": {
        "id": "5WEA69K3F9Mo",
        "colab_type": "code",
        "colab": {}
      },
      "source": [
        "train_transpose = train_transpose.set_index(train_transpose.date)"
      ],
      "execution_count": 0,
      "outputs": []
    },
    {
      "cell_type": "code",
      "metadata": {
        "id": "EbAt9ay5F_fX",
        "colab_type": "code",
        "colab": {}
      },
      "source": [
        "train_transpose_copy = train_transpose.drop(columns=['date'], axis=1)"
      ],
      "execution_count": 0,
      "outputs": []
    },
    {
      "cell_type": "code",
      "metadata": {
        "id": "FVtjOwkpGBk3",
        "colab_type": "code",
        "colab": {}
      },
      "source": [
        "train, test = train_transpose_copy[:6], train_transpose_copy[6:]"
      ],
      "execution_count": 0,
      "outputs": []
    },
    {
      "cell_type": "code",
      "metadata": {
        "id": "kd57qeOnGGuG",
        "colab_type": "code",
        "colab": {
          "base_uri": "https://localhost:8080/",
          "height": 34
        },
        "outputId": "97df8104-cc34-4729-eb9c-736e3a65981b"
      },
      "source": [
        "test.shape"
      ],
      "execution_count": 29,
      "outputs": [
        {
          "output_type": "execute_result",
          "data": {
            "text/plain": [
              "(1, 10714)"
            ]
          },
          "metadata": {
            "tags": []
          },
          "execution_count": 29
        }
      ]
    },
    {
      "cell_type": "code",
      "metadata": {
        "id": "mLHoGGPQJDCg",
        "colab_type": "code",
        "colab": {
          "base_uri": "https://localhost:8080/",
          "height": 34
        },
        "outputId": "c1f0ba7b-8ac1-43da-d7a4-d0a903d1a583"
      },
      "source": [
        "train.shape"
      ],
      "execution_count": 69,
      "outputs": [
        {
          "output_type": "execute_result",
          "data": {
            "text/plain": [
              "(6, 10714)"
            ]
          },
          "metadata": {
            "tags": []
          },
          "execution_count": 69
        }
      ]
    },
    {
      "cell_type": "code",
      "metadata": {
        "id": "6LAKby_wHe2X",
        "colab_type": "code",
        "colab": {}
      },
      "source": [
        "scaler = MinMaxScaler()"
      ],
      "execution_count": 0,
      "outputs": []
    },
    {
      "cell_type": "code",
      "metadata": {
        "id": "U8LonTe-Hezx",
        "colab_type": "code",
        "colab": {
          "base_uri": "https://localhost:8080/",
          "height": 34
        },
        "outputId": "07e76d0a-8fb9-4746-e4e1-6680a97aa6df"
      },
      "source": [
        "scaler.fit(train)"
      ],
      "execution_count": 71,
      "outputs": [
        {
          "output_type": "execute_result",
          "data": {
            "text/plain": [
              "MinMaxScaler(copy=True, feature_range=(0, 1))"
            ]
          },
          "metadata": {
            "tags": []
          },
          "execution_count": 71
        }
      ]
    },
    {
      "cell_type": "code",
      "metadata": {
        "id": "MOf7Wf3gIn7q",
        "colab_type": "code",
        "colab": {
          "base_uri": "https://localhost:8080/",
          "height": 34
        },
        "outputId": "d22601c6-9500-47f3-bcc7-79242b0d44c9"
      },
      "source": [
        "scaler.fit(test)"
      ],
      "execution_count": 72,
      "outputs": [
        {
          "output_type": "execute_result",
          "data": {
            "text/plain": [
              "MinMaxScaler(copy=True, feature_range=(0, 1))"
            ]
          },
          "metadata": {
            "tags": []
          },
          "execution_count": 72
        }
      ]
    },
    {
      "cell_type": "code",
      "metadata": {
        "id": "oaIGLLX5Hewv",
        "colab_type": "code",
        "colab": {}
      },
      "source": [
        "train = scaler.transform(train)\n",
        "test = scaler.transform(test)"
      ],
      "execution_count": 0,
      "outputs": []
    },
    {
      "cell_type": "code",
      "metadata": {
        "id": "v03h0SoOJJ07",
        "colab_type": "code",
        "colab": {
          "base_uri": "https://localhost:8080/",
          "height": 34
        },
        "outputId": "e8c6081a-03b8-4145-d712-ae4cc02118d7"
      },
      "source": [
        "test.shape"
      ],
      "execution_count": 74,
      "outputs": [
        {
          "output_type": "execute_result",
          "data": {
            "text/plain": [
              "(1, 10714)"
            ]
          },
          "metadata": {
            "tags": []
          },
          "execution_count": 74
        }
      ]
    },
    {
      "cell_type": "code",
      "metadata": {
        "id": "o2M1QzKeGWgo",
        "colab_type": "code",
        "colab": {}
      },
      "source": [
        "n_input = 1\n",
        "n_features = train.shape[1]\n"
      ],
      "execution_count": 0,
      "outputs": []
    },
    {
      "cell_type": "code",
      "metadata": {
        "id": "UstDmFoSGI2C",
        "colab_type": "code",
        "colab": {}
      },
      "source": [
        "generator = TimeseriesGenerator(train, train, length=n_input, batch_size=1)"
      ],
      "execution_count": 0,
      "outputs": []
    },
    {
      "cell_type": "code",
      "metadata": {
        "id": "bHqrEktkGRHO",
        "colab_type": "code",
        "colab": {}
      },
      "source": [
        "def create_model():\n",
        "    model = Sequential()\n",
        "    model.add(LSTM(200, activation='relu', input_shape=(1, 10714)))\n",
        "    model.add(Dropout(0.15))\n",
        "    model.add(Dense(train.shape[1]))\n",
        "    model.compile(optimizer='adam', loss='mse')\n",
        "    return model"
      ],
      "execution_count": 0,
      "outputs": []
    },
    {
      "cell_type": "code",
      "metadata": {
        "id": "ooixyAXmGf17",
        "colab_type": "code",
        "colab": {}
      },
      "source": [
        "model=create_model()"
      ],
      "execution_count": 0,
      "outputs": []
    },
    {
      "cell_type": "code",
      "metadata": {
        "id": "W97BK3KHGa5d",
        "colab_type": "code",
        "colab": {
          "base_uri": "https://localhost:8080/",
          "height": 255
        },
        "outputId": "0b46e41e-7e82-405c-9f58-163d29f1377a"
      },
      "source": [
        "model.summary()"
      ],
      "execution_count": 66,
      "outputs": [
        {
          "output_type": "stream",
          "text": [
            "Model: \"sequential_6\"\n",
            "_________________________________________________________________\n",
            "Layer (type)                 Output Shape              Param #   \n",
            "=================================================================\n",
            "lstm_6 (LSTM)                (None, 200)               8732000   \n",
            "_________________________________________________________________\n",
            "dropout_6 (Dropout)          (None, 200)               0         \n",
            "_________________________________________________________________\n",
            "dense_6 (Dense)              (None, 10714)             2153514   \n",
            "=================================================================\n",
            "Total params: 10,885,514\n",
            "Trainable params: 10,885,514\n",
            "Non-trainable params: 0\n",
            "_________________________________________________________________\n"
          ],
          "name": "stdout"
        }
      ]
    },
    {
      "cell_type": "code",
      "metadata": {
        "id": "XbzXEIpnGd6w",
        "colab_type": "code",
        "colab": {
          "base_uri": "https://localhost:8080/",
          "height": 1000
        },
        "outputId": "28fc05fd-41b1-415d-df0a-964f60e18cd2"
      },
      "source": [
        "model.fit_generator(generator,epochs=70)"
      ],
      "execution_count": 67,
      "outputs": [
        {
          "output_type": "stream",
          "text": [
            "Epoch 1/70\n",
            "5/5 [==============================] - 1s 283ms/step - loss: 0.7447\n",
            "Epoch 2/70\n",
            "5/5 [==============================] - 0s 28ms/step - loss: 0.4299\n",
            "Epoch 3/70\n",
            "5/5 [==============================] - 0s 20ms/step - loss: 0.2331\n",
            "Epoch 4/70\n",
            "5/5 [==============================] - 0s 20ms/step - loss: 0.1717\n",
            "Epoch 5/70\n",
            "5/5 [==============================] - 0s 20ms/step - loss: 0.0864\n",
            "Epoch 6/70\n",
            "5/5 [==============================] - 0s 19ms/step - loss: 0.0951\n",
            "Epoch 7/70\n",
            "5/5 [==============================] - 0s 20ms/step - loss: 0.1448\n",
            "Epoch 8/70\n",
            "5/5 [==============================] - 0s 21ms/step - loss: 0.0632\n",
            "Epoch 9/70\n",
            "5/5 [==============================] - 0s 20ms/step - loss: 0.0638\n",
            "Epoch 10/70\n",
            "5/5 [==============================] - 0s 20ms/step - loss: 0.0934\n",
            "Epoch 11/70\n",
            "5/5 [==============================] - 0s 20ms/step - loss: 0.1074\n",
            "Epoch 12/70\n",
            "5/5 [==============================] - 0s 20ms/step - loss: 0.1852\n",
            "Epoch 13/70\n",
            "5/5 [==============================] - 0s 20ms/step - loss: 0.0401\n",
            "Epoch 14/70\n",
            "5/5 [==============================] - 0s 20ms/step - loss: 0.0890\n",
            "Epoch 15/70\n",
            "5/5 [==============================] - 0s 20ms/step - loss: 0.1699\n",
            "Epoch 16/70\n",
            "5/5 [==============================] - 0s 20ms/step - loss: 0.2675\n",
            "Epoch 17/70\n",
            "5/5 [==============================] - 0s 20ms/step - loss: 0.2622\n",
            "Epoch 18/70\n",
            "5/5 [==============================] - 0s 20ms/step - loss: 0.1238\n",
            "Epoch 19/70\n",
            "5/5 [==============================] - 0s 21ms/step - loss: 0.1494\n",
            "Epoch 20/70\n",
            "5/5 [==============================] - 0s 20ms/step - loss: 0.1240\n",
            "Epoch 21/70\n",
            "5/5 [==============================] - 0s 20ms/step - loss: 0.0810\n",
            "Epoch 22/70\n",
            "5/5 [==============================] - 0s 20ms/step - loss: 0.0281\n",
            "Epoch 23/70\n",
            "5/5 [==============================] - 0s 20ms/step - loss: 0.0203\n",
            "Epoch 24/70\n",
            "5/5 [==============================] - 0s 21ms/step - loss: 0.0214\n",
            "Epoch 25/70\n",
            "5/5 [==============================] - 0s 19ms/step - loss: 0.0267\n",
            "Epoch 26/70\n",
            "5/5 [==============================] - 0s 20ms/step - loss: 0.0341\n",
            "Epoch 27/70\n",
            "5/5 [==============================] - 0s 20ms/step - loss: 0.0220\n",
            "Epoch 28/70\n",
            "5/5 [==============================] - 0s 20ms/step - loss: 0.1209\n",
            "Epoch 29/70\n",
            "5/5 [==============================] - 0s 20ms/step - loss: 0.0953\n",
            "Epoch 30/70\n",
            "5/5 [==============================] - 0s 19ms/step - loss: 0.1477\n",
            "Epoch 31/70\n",
            "5/5 [==============================] - 0s 20ms/step - loss: 0.0159\n",
            "Epoch 32/70\n",
            "5/5 [==============================] - 0s 20ms/step - loss: 0.1356\n",
            "Epoch 33/70\n",
            "5/5 [==============================] - 0s 20ms/step - loss: 0.0354\n",
            "Epoch 34/70\n",
            "5/5 [==============================] - 0s 20ms/step - loss: 0.0625\n",
            "Epoch 35/70\n",
            "5/5 [==============================] - 0s 20ms/step - loss: 0.0879\n",
            "Epoch 36/70\n",
            "5/5 [==============================] - 0s 20ms/step - loss: 0.1639\n",
            "Epoch 37/70\n",
            "5/5 [==============================] - 0s 20ms/step - loss: 0.1486\n",
            "Epoch 38/70\n",
            "5/5 [==============================] - 0s 22ms/step - loss: 0.0917\n",
            "Epoch 39/70\n",
            "5/5 [==============================] - 0s 20ms/step - loss: 0.0584\n",
            "Epoch 40/70\n",
            "5/5 [==============================] - 0s 20ms/step - loss: 0.1041\n",
            "Epoch 41/70\n",
            "5/5 [==============================] - 0s 19ms/step - loss: 0.0763\n",
            "Epoch 42/70\n",
            "5/5 [==============================] - 0s 19ms/step - loss: 0.0246\n",
            "Epoch 43/70\n",
            "5/5 [==============================] - 0s 21ms/step - loss: 0.0502\n",
            "Epoch 44/70\n",
            "5/5 [==============================] - 0s 19ms/step - loss: 0.0187\n",
            "Epoch 45/70\n",
            "5/5 [==============================] - 0s 20ms/step - loss: 0.0629\n",
            "Epoch 46/70\n",
            "5/5 [==============================] - 0s 19ms/step - loss: 0.0845\n",
            "Epoch 47/70\n",
            "5/5 [==============================] - 0s 20ms/step - loss: 0.0694\n",
            "Epoch 48/70\n",
            "5/5 [==============================] - 0s 20ms/step - loss: 0.0725\n",
            "Epoch 49/70\n",
            "5/5 [==============================] - 0s 20ms/step - loss: 0.0666\n",
            "Epoch 50/70\n",
            "5/5 [==============================] - 0s 20ms/step - loss: 0.0803\n",
            "Epoch 51/70\n",
            "5/5 [==============================] - 0s 20ms/step - loss: 0.0616\n",
            "Epoch 52/70\n",
            "5/5 [==============================] - 0s 19ms/step - loss: 0.0930\n",
            "Epoch 53/70\n",
            "5/5 [==============================] - 0s 20ms/step - loss: 0.0255\n",
            "Epoch 54/70\n",
            "5/5 [==============================] - 0s 20ms/step - loss: 0.0559\n",
            "Epoch 55/70\n",
            "5/5 [==============================] - 0s 19ms/step - loss: 0.1099\n",
            "Epoch 56/70\n",
            "5/5 [==============================] - 0s 20ms/step - loss: 0.0679\n",
            "Epoch 57/70\n",
            "5/5 [==============================] - 0s 20ms/step - loss: 0.0910\n",
            "Epoch 58/70\n",
            "5/5 [==============================] - 0s 21ms/step - loss: 0.2459\n",
            "Epoch 59/70\n",
            "5/5 [==============================] - 0s 20ms/step - loss: 0.0418\n",
            "Epoch 60/70\n",
            "5/5 [==============================] - 0s 19ms/step - loss: 0.0634\n",
            "Epoch 61/70\n",
            "5/5 [==============================] - 0s 20ms/step - loss: 0.0071\n",
            "Epoch 62/70\n",
            "5/5 [==============================] - 0s 19ms/step - loss: 0.0105\n",
            "Epoch 63/70\n",
            "5/5 [==============================] - 0s 21ms/step - loss: 0.0946\n",
            "Epoch 64/70\n",
            "5/5 [==============================] - 0s 20ms/step - loss: 0.0712\n",
            "Epoch 65/70\n",
            "5/5 [==============================] - 0s 20ms/step - loss: 0.0604\n",
            "Epoch 66/70\n",
            "5/5 [==============================] - 0s 19ms/step - loss: 0.0304\n",
            "Epoch 67/70\n",
            "5/5 [==============================] - 0s 20ms/step - loss: 0.0411\n",
            "Epoch 68/70\n",
            "5/5 [==============================] - 0s 20ms/step - loss: 0.0586\n",
            "Epoch 69/70\n",
            "5/5 [==============================] - 0s 20ms/step - loss: 0.0514\n",
            "Epoch 70/70\n",
            "5/5 [==============================] - 0s 20ms/step - loss: 0.1011\n"
          ],
          "name": "stdout"
        },
        {
          "output_type": "execute_result",
          "data": {
            "text/plain": [
              "<keras.callbacks.History at 0x7f4d8ab02cc0>"
            ]
          },
          "metadata": {
            "tags": []
          },
          "execution_count": 67
        }
      ]
    },
    {
      "cell_type": "code",
      "metadata": {
        "id": "VtqPvjSDH9wG",
        "colab_type": "code",
        "colab": {}
      },
      "source": [
        ""
      ],
      "execution_count": 0,
      "outputs": []
    }
  ]
}